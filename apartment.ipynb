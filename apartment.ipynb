{
 "cells": [
  {
   "cell_type": "markdown",
   "id": "enclosed-palestine",
   "metadata": {},
   "source": [
    "# Исследование объявлений о продаже квартир\n",
    "## Описание проекта\n",
    "В вашем распоряжении данные сервиса Яндекс.Недвижимость — архив объявлений о продаже квартир в Санкт-Петербурге и соседних населённых пунктах за несколько лет. Нужно **научиться определять рыночную стоимость объектов недвижимости**. Ваша задача — установить параметры. Это позволит построить автоматизированную систему: она отследит аномалии и мошенническую деятельность. \n",
    "По каждой квартире на продажу доступны два вида данных. Первые вписаны пользователем, вторые — получены автоматически на основе картографических данных. Например, расстояние до центра, аэропорта, ближайшего парка и водоёма. \n",
    "## Инструкция по выполнению проекта\n",
    "### Шаг 1. Откройте файл с данными и изучите общую информацию\n",
    "Путь к файлу: /datasets/real_estate_data.csv. Скачать датасет\n",
    "### Шаг 2. Предобработка данных\n",
    "Определите и изучите пропущенные значения: \n",
    "для некоторых пропущенных значений можно предположить логичную замену. Например, если человек не указал число балконов — скорее всего, их нет. Такие пропуски правильно заменить на 0. Для других типов данных нет подходящего значения на замену. В этом случае правильно оставить эти значения пустыми. Отсутствие значения — тоже важный сигнал, который не нужно прятать;\n",
    "заполните пропуски, где это уместно. Опишите, почему вы решили заполнить пропуски именно в этих столбцах и как выбрали значения;\n",
    "укажите причины, которые могли привести к пропускам в данных.\n",
    "Приведите данные к нужным типам: \n",
    "поясните, в каких столбцах нужно изменить тип данных и почему.\n",
    "### Шаг 3. Посчитайте и добавьте в таблицу:\n",
    "цену квадратного метра;\n",
    "день недели, месяц и год публикации объявления;\n",
    "этаж квартиры; варианты — первый, последний, другой;\n",
    "соотношение жилой и общей площади, а также отношение площади кухни к общей.\n",
    "### Шаг 4. Проведите исследовательский анализ данных и выполните инструкции:\n",
    "Изучите следующие параметры: площадь, цена, число комнат, высота потолков. Постройте гистограммы для каждого параметра.\n",
    "Изучите время продажи квартиры. Постройте гистограмму. Посчитайте среднее и медиану. Опишите, сколько обычно занимает продажа. Когда можно считать, что продажи прошли очень быстро, а когда необычно долго?\n",
    "Уберите редкие и выбивающиеся значения. Опишите, какие особенности обнаружили.\n",
    "Какие факторы больше всего влияют на стоимость квартиры? Изучите, зависит ли цена от площади, числа комнат, удалённости от центра. Изучите зависимость цены от того, на каком этаже расположена квартира: первом, последнем или другом. Также изучите зависимость от даты размещения: дня недели, месяца и года.\n",
    "Выберите 10 населённых пунктов с наибольшим числом объявлений. Посчитайте среднюю цену квадратного метра в этих населённых пунктах. Выделите среди них населённые пункты с самой высокой и низкой стоимостью жилья. Эти данные можно найти по имени в столбце 'locality_name'.\n",
    "Изучите предложения квартир: для каждой квартиры есть информация о расстоянии до центра. Выделите квартиры в Санкт-Петербурге ('locality_name'). Ваша задача — выяснить, какая область входит в центр. Создайте столбец с расстоянием до центра в километрах: округлите до целых значений. После этого посчитайте среднюю цену для каждого километра. Постройте график: он должен показывать, как цена зависит от удалённости от центра. Определите границу, где график сильно меняется — это и будет центральная зона.\n",
    "Выделите сегмент квартир в центре. Проанализируйте эту территорию и изучите следующие параметры: площадь, цена, число комнат, высота потолков. Также выделите факторы, которые влияют на стоимость квартиры (число комнат, этаж, удалённость от центра, дата размещения объявления). Сделайте выводы. Отличаются ли они от общих выводов по всему городу?\n",
    "### Шаг 5. Напишите общий вывод\n",
    "Оформление: Выполните задание в Jupyter Notebook. Заполните программный код в ячейках типа code, текстовые пояснения — в ячейках типа markdown. Примените форматирование и заголовки.\n",
    "## Описание данных\n",
    "    airports_nearest — расстояние до ближайшего аэропорта в метрах (м)\n",
    "    balcony — число балконов\n",
    "    ceiling_height — высота потолков (м)\n",
    "    cityCenters_nearest — расстояние до центра города (м)\n",
    "    days_exposition — сколько дней было размещено объявление (от публикации до снятия)\n",
    "    first_day_exposition — дата публикации\n",
    "    floor — этаж\n",
    "    floors_total — всего этажей в доме\n",
    "    is_apartment — апартаменты (булев тип)\n",
    "    kitchen_area — площадь кухни в квадратных метрах (м²)\n",
    "    last_price — цена на момент снятия с публикации\n",
    "    living_area — жилая площадь в квадратных метрах(м²)\n",
    "    locality_name — название населённого пункта\n",
    "    open_plan — свободная планировка (булев тип)\n",
    "    parks_around3000 — число парков в радиусе 3 км\n",
    "    parks_nearest — расстояние до ближайшего парка (м)\n",
    "    ponds_around3000 — число водоёмов в радиусе 3 км\n",
    "    ponds_nearest — расстояние до ближайшего водоёма (м)\n",
    "    rooms — число комнат\n",
    "    studio — квартира-студия (булев тип)\n",
    "    total_area — площадь квартиры в квадратных метрах (м²)\n",
    "    total_images — число фотографий квартиры в объявлении\n",
    "Пояснение: апартаменты — это нежилые помещения, не относящиеся к жилому фонду, но имеющие необходимые условия для проживания."
   ]
  },
  {
   "cell_type": "markdown",
   "id": "micro-access",
   "metadata": {},
   "source": [
    "### Шаг 1. Откройте файл с данными и изучите общую информацию"
   ]
  },
  {
   "cell_type": "code",
   "execution_count": 1,
   "id": "elect-borough",
   "metadata": {},
   "outputs": [],
   "source": [
    "import pandas as pd\n",
    "import matplotlib.pyplot as plt\n",
    "import warnings\n",
    "warnings.filterwarnings(\"ignore\")"
   ]
  },
  {
   "cell_type": "code",
   "execution_count": 2,
   "id": "chubby-durham",
   "metadata": {},
   "outputs": [
    {
     "data": {
      "text/html": [
       "<div>\n",
       "<style scoped>\n",
       "    .dataframe tbody tr th:only-of-type {\n",
       "        vertical-align: middle;\n",
       "    }\n",
       "\n",
       "    .dataframe tbody tr th {\n",
       "        vertical-align: top;\n",
       "    }\n",
       "\n",
       "    .dataframe thead th {\n",
       "        text-align: right;\n",
       "    }\n",
       "</style>\n",
       "<table border=\"1\" class=\"dataframe\">\n",
       "  <thead>\n",
       "    <tr style=\"text-align: right;\">\n",
       "      <th></th>\n",
       "      <th>total_images</th>\n",
       "      <th>last_price</th>\n",
       "      <th>total_area</th>\n",
       "      <th>first_day_exposition</th>\n",
       "      <th>rooms</th>\n",
       "      <th>ceiling_height</th>\n",
       "      <th>floors_total</th>\n",
       "      <th>living_area</th>\n",
       "      <th>floor</th>\n",
       "      <th>is_apartment</th>\n",
       "      <th>...</th>\n",
       "      <th>kitchen_area</th>\n",
       "      <th>balcony</th>\n",
       "      <th>locality_name</th>\n",
       "      <th>airports_nearest</th>\n",
       "      <th>cityCenters_nearest</th>\n",
       "      <th>parks_around3000</th>\n",
       "      <th>parks_nearest</th>\n",
       "      <th>ponds_around3000</th>\n",
       "      <th>ponds_nearest</th>\n",
       "      <th>days_exposition</th>\n",
       "    </tr>\n",
       "  </thead>\n",
       "  <tbody>\n",
       "    <tr>\n",
       "      <th>0</th>\n",
       "      <td>20</td>\n",
       "      <td>13000000.0</td>\n",
       "      <td>108.0</td>\n",
       "      <td>2019-03-07T00:00:00</td>\n",
       "      <td>3</td>\n",
       "      <td>2.70</td>\n",
       "      <td>16.0</td>\n",
       "      <td>51.0</td>\n",
       "      <td>8</td>\n",
       "      <td>NaN</td>\n",
       "      <td>...</td>\n",
       "      <td>25.0</td>\n",
       "      <td>NaN</td>\n",
       "      <td>Санкт-Петербург</td>\n",
       "      <td>18863.0</td>\n",
       "      <td>16028.0</td>\n",
       "      <td>1.0</td>\n",
       "      <td>482.0</td>\n",
       "      <td>2.0</td>\n",
       "      <td>755.0</td>\n",
       "      <td>NaN</td>\n",
       "    </tr>\n",
       "    <tr>\n",
       "      <th>1</th>\n",
       "      <td>7</td>\n",
       "      <td>3350000.0</td>\n",
       "      <td>40.4</td>\n",
       "      <td>2018-12-04T00:00:00</td>\n",
       "      <td>1</td>\n",
       "      <td>NaN</td>\n",
       "      <td>11.0</td>\n",
       "      <td>18.6</td>\n",
       "      <td>1</td>\n",
       "      <td>NaN</td>\n",
       "      <td>...</td>\n",
       "      <td>11.0</td>\n",
       "      <td>2.0</td>\n",
       "      <td>посёлок Шушары</td>\n",
       "      <td>12817.0</td>\n",
       "      <td>18603.0</td>\n",
       "      <td>0.0</td>\n",
       "      <td>NaN</td>\n",
       "      <td>0.0</td>\n",
       "      <td>NaN</td>\n",
       "      <td>81.0</td>\n",
       "    </tr>\n",
       "    <tr>\n",
       "      <th>2</th>\n",
       "      <td>10</td>\n",
       "      <td>5196000.0</td>\n",
       "      <td>56.0</td>\n",
       "      <td>2015-08-20T00:00:00</td>\n",
       "      <td>2</td>\n",
       "      <td>NaN</td>\n",
       "      <td>5.0</td>\n",
       "      <td>34.3</td>\n",
       "      <td>4</td>\n",
       "      <td>NaN</td>\n",
       "      <td>...</td>\n",
       "      <td>8.3</td>\n",
       "      <td>0.0</td>\n",
       "      <td>Санкт-Петербург</td>\n",
       "      <td>21741.0</td>\n",
       "      <td>13933.0</td>\n",
       "      <td>1.0</td>\n",
       "      <td>90.0</td>\n",
       "      <td>2.0</td>\n",
       "      <td>574.0</td>\n",
       "      <td>558.0</td>\n",
       "    </tr>\n",
       "    <tr>\n",
       "      <th>3</th>\n",
       "      <td>0</td>\n",
       "      <td>64900000.0</td>\n",
       "      <td>159.0</td>\n",
       "      <td>2015-07-24T00:00:00</td>\n",
       "      <td>3</td>\n",
       "      <td>NaN</td>\n",
       "      <td>14.0</td>\n",
       "      <td>NaN</td>\n",
       "      <td>9</td>\n",
       "      <td>NaN</td>\n",
       "      <td>...</td>\n",
       "      <td>NaN</td>\n",
       "      <td>0.0</td>\n",
       "      <td>Санкт-Петербург</td>\n",
       "      <td>28098.0</td>\n",
       "      <td>6800.0</td>\n",
       "      <td>2.0</td>\n",
       "      <td>84.0</td>\n",
       "      <td>3.0</td>\n",
       "      <td>234.0</td>\n",
       "      <td>424.0</td>\n",
       "    </tr>\n",
       "    <tr>\n",
       "      <th>4</th>\n",
       "      <td>2</td>\n",
       "      <td>10000000.0</td>\n",
       "      <td>100.0</td>\n",
       "      <td>2018-06-19T00:00:00</td>\n",
       "      <td>2</td>\n",
       "      <td>3.03</td>\n",
       "      <td>14.0</td>\n",
       "      <td>32.0</td>\n",
       "      <td>13</td>\n",
       "      <td>NaN</td>\n",
       "      <td>...</td>\n",
       "      <td>41.0</td>\n",
       "      <td>NaN</td>\n",
       "      <td>Санкт-Петербург</td>\n",
       "      <td>31856.0</td>\n",
       "      <td>8098.0</td>\n",
       "      <td>2.0</td>\n",
       "      <td>112.0</td>\n",
       "      <td>1.0</td>\n",
       "      <td>48.0</td>\n",
       "      <td>121.0</td>\n",
       "    </tr>\n",
       "  </tbody>\n",
       "</table>\n",
       "<p>5 rows × 22 columns</p>\n",
       "</div>"
      ],
      "text/plain": [
       "   total_images  last_price  total_area first_day_exposition  rooms  \\\n",
       "0            20  13000000.0       108.0  2019-03-07T00:00:00      3   \n",
       "1             7   3350000.0        40.4  2018-12-04T00:00:00      1   \n",
       "2            10   5196000.0        56.0  2015-08-20T00:00:00      2   \n",
       "3             0  64900000.0       159.0  2015-07-24T00:00:00      3   \n",
       "4             2  10000000.0       100.0  2018-06-19T00:00:00      2   \n",
       "\n",
       "   ceiling_height  floors_total  living_area  floor is_apartment  ...  \\\n",
       "0            2.70          16.0         51.0      8          NaN  ...   \n",
       "1             NaN          11.0         18.6      1          NaN  ...   \n",
       "2             NaN           5.0         34.3      4          NaN  ...   \n",
       "3             NaN          14.0          NaN      9          NaN  ...   \n",
       "4            3.03          14.0         32.0     13          NaN  ...   \n",
       "\n",
       "   kitchen_area  balcony    locality_name  airports_nearest  \\\n",
       "0          25.0      NaN  Санкт-Петербург           18863.0   \n",
       "1          11.0      2.0   посёлок Шушары           12817.0   \n",
       "2           8.3      0.0  Санкт-Петербург           21741.0   \n",
       "3           NaN      0.0  Санкт-Петербург           28098.0   \n",
       "4          41.0      NaN  Санкт-Петербург           31856.0   \n",
       "\n",
       "  cityCenters_nearest  parks_around3000  parks_nearest  ponds_around3000  \\\n",
       "0             16028.0               1.0          482.0               2.0   \n",
       "1             18603.0               0.0            NaN               0.0   \n",
       "2             13933.0               1.0           90.0               2.0   \n",
       "3              6800.0               2.0           84.0               3.0   \n",
       "4              8098.0               2.0          112.0               1.0   \n",
       "\n",
       "   ponds_nearest  days_exposition  \n",
       "0          755.0              NaN  \n",
       "1            NaN             81.0  \n",
       "2          574.0            558.0  \n",
       "3          234.0            424.0  \n",
       "4           48.0            121.0  \n",
       "\n",
       "[5 rows x 22 columns]"
      ]
     },
     "execution_count": 2,
     "metadata": {},
     "output_type": "execute_result"
    }
   ],
   "source": [
    "df = pd.read_csv('real_estate_data.csv', sep='\\t')\n",
    "df.head()"
   ]
  },
  {
   "cell_type": "code",
   "execution_count": 3,
   "id": "becoming-wrong",
   "metadata": {
    "scrolled": true
   },
   "outputs": [
    {
     "name": "stdout",
     "output_type": "stream",
     "text": [
      "<class 'pandas.core.frame.DataFrame'>\n",
      "RangeIndex: 23699 entries, 0 to 23698\n",
      "Data columns (total 22 columns):\n",
      " #   Column                Non-Null Count  Dtype  \n",
      "---  ------                --------------  -----  \n",
      " 0   total_images          23699 non-null  int64  \n",
      " 1   last_price            23699 non-null  float64\n",
      " 2   total_area            23699 non-null  float64\n",
      " 3   first_day_exposition  23699 non-null  object \n",
      " 4   rooms                 23699 non-null  int64  \n",
      " 5   ceiling_height        14504 non-null  float64\n",
      " 6   floors_total          23613 non-null  float64\n",
      " 7   living_area           21796 non-null  float64\n",
      " 8   floor                 23699 non-null  int64  \n",
      " 9   is_apartment          2775 non-null   object \n",
      " 10  studio                23699 non-null  bool   \n",
      " 11  open_plan             23699 non-null  bool   \n",
      " 12  kitchen_area          21421 non-null  float64\n",
      " 13  balcony               12180 non-null  float64\n",
      " 14  locality_name         23650 non-null  object \n",
      " 15  airports_nearest      18157 non-null  float64\n",
      " 16  cityCenters_nearest   18180 non-null  float64\n",
      " 17  parks_around3000      18181 non-null  float64\n",
      " 18  parks_nearest         8079 non-null   float64\n",
      " 19  ponds_around3000      18181 non-null  float64\n",
      " 20  ponds_nearest         9110 non-null   float64\n",
      " 21  days_exposition       20518 non-null  float64\n",
      "dtypes: bool(2), float64(14), int64(3), object(3)\n",
      "memory usage: 3.7+ MB\n"
     ]
    }
   ],
   "source": [
    "df.info()"
   ]
  },
  {
   "cell_type": "markdown",
   "id": "fancy-syria",
   "metadata": {},
   "source": [
    "Изучим детальнее столбцы с пропусками. К каждому столбцу с пропуском построим гистограмму и метод describe, чтобы увидеть распределение данных.\n",
    "1. ceiling_height - высота потолков в большинстве случаев находится около 2.65 м. Также существуют выбросы, например, 100 м. Удалим их позже. Заменим пропуски медианой по причине присутсвия выбросов. Причиной пропусков может быть: продавец случайно не указал высоту потолков за ненадобностью.\n",
    "2. floors_total — всего этажей в доме. Большинство значений находится в диапазоне от 5 до 16 этажей. 75% значений не превышают 16 этажей. Также существуют выбросы. Пропущенных значений 86. Можем их удалить.\n",
    "3. living_area — жилая площадь. Большинство значений не превышает 42 кв.м. Пропуски заменим медианой, которую получили при группировке данных по количеству комнат.\n",
    "4. is_apartment — апартаменты. Заменим пропущенные значения на False. Клиенты оставляют пустым значение параметра, так как недвижимость не является аппартаментами.\n",
    "5. kitchen_area — площадь кухни. Большинство значений (75%) не превышает 12 кв.м. Также существуют выбросы. Пропущенных значений около 10%. Заменим пропущенные значения медианой.\n",
    "6. balcony — число балконов. Заменим пропуски на 0, так как пользователь не указал их количество по причине их отсуствия в квартире.\n",
    "7. locality_name — название населённого пункта. Самое частое значение - Санкт-Петербург. 49 значений пропущены. Пропуски не будет заменять, так как мы не знаем, какой локации они принадлежат.\n",
    "8. airports_nearest — расстояние до ближайшего аэропорта. В большинстве случаев значения находятся около 27000 м. Существуют выбросы. Пропуски возникли по причине ошибки при сборе данных. Заменим пропуски медианным значением. \n",
    "9. cityCenters_nearest — расстояние до центра города. Большинство значений находятся в диапазоне от 9000 до 16000 м. Пропуски заменим медианой.\n",
    "10. parks_around3000 — число парков в радиусе 3 км. Большинство значений находятся в диапазоне от 0 до 1. Значение 0 встречается чаще всего, далее идет значение 1, потом 2 и 3. Пропущенных значений 23%. Заменим медианой.\n",
    "11. parks_nearest - Большинство квартир имеет ближайший парк в радиусе 500 метров. Существуют выбросы. Пропусков 65%, заменим их медианой.\n",
    "12. ponds_around3000. Значения по частоте встречаются так же, как у parks_around3000. Пропущенных значений 23% как у parks_around3000. Заменим их медианой.\n",
    "13. ponds_nearest - Большинство квартир имеет ближайший водоем в радиусе 500 метров. Пропусков 62%, заменим медианой.\n",
    "14. days_exposition — сколько дней было размещено объявление. Пропусков 13%. Не будем изменять значения, так как объявление может быть еще активно. Странно, что гистограмма не напоминает Пуассоновское распределение.\n",
    "\n",
    "#### Вывод\n",
    "В данных 14 столбцов, в которых присутствуют пропуски. Некоторые из них заменим с помощью медианы, так как присутсвуют выбросы. Не все данные мы будем изменять. В living_area мы используем другой способ - замена медианой по группам. Выбросы оставим до этапы фильтрации данных."
   ]
  },
  {
   "cell_type": "markdown",
   "id": "cosmetic-triple",
   "metadata": {},
   "source": [
    "### Шаг 2. Предобработка данных\n",
    "#### Замена пропущенных значений\n",
    "Проверим, есть ли дубликаты. Так как если мы изначально изменим пропуски на медианные значения, может появиться больше дубликатов. И при их удалении мы потеряем данные."
   ]
  },
  {
   "cell_type": "code",
   "execution_count": 4,
   "id": "infinite-phrase",
   "metadata": {},
   "outputs": [
    {
     "data": {
      "text/plain": [
       "0"
      ]
     },
     "execution_count": 4,
     "metadata": {},
     "output_type": "execute_result"
    }
   ],
   "source": [
    "df.duplicated().sum()"
   ]
  },
  {
   "cell_type": "markdown",
   "id": "structured-exclusive",
   "metadata": {},
   "source": [
    "Дубликатов в данных нет.\n",
    "Пропуски в столбцах cityCenters_nearest, airports_nearest, parks_nearest, ponds_nearest заменим медианой."
   ]
  },
  {
   "cell_type": "code",
   "execution_count": 5,
   "id": "nervous-given",
   "metadata": {},
   "outputs": [],
   "source": [
    "columns_to_fill_median = ['cityCenters_nearest', 'airports_nearest', 'parks_nearest', 'ponds_nearest']\n",
    "for column in columns_to_fill_median:\n",
    "    df[column] = df[column].fillna(df[column].median())"
   ]
  },
  {
   "cell_type": "markdown",
   "id": "fantastic-central",
   "metadata": {},
   "source": [
    "Пропуски в столбцах parks_around3000, ponds_around3000 заменим нулем, так как это значение встречается чаще всего."
   ]
  },
  {
   "cell_type": "code",
   "execution_count": 6,
   "id": "adjacent-evolution",
   "metadata": {},
   "outputs": [],
   "source": [
    "columns_to_fill_null = ['parks_around3000', 'ponds_around3000']\n",
    "for column in columns_to_fill_null:\n",
    "    df[column] = df[column].fillna(0)"
   ]
  },
  {
   "cell_type": "code",
   "execution_count": 7,
   "id": "regular-grass",
   "metadata": {},
   "outputs": [
    {
     "name": "stdout",
     "output_type": "stream",
     "text": [
      "<class 'pandas.core.frame.DataFrame'>\n",
      "RangeIndex: 23699 entries, 0 to 23698\n",
      "Data columns (total 22 columns):\n",
      " #   Column                Non-Null Count  Dtype  \n",
      "---  ------                --------------  -----  \n",
      " 0   total_images          23699 non-null  int64  \n",
      " 1   last_price            23699 non-null  float64\n",
      " 2   total_area            23699 non-null  float64\n",
      " 3   first_day_exposition  23699 non-null  object \n",
      " 4   rooms                 23699 non-null  int64  \n",
      " 5   ceiling_height        14504 non-null  float64\n",
      " 6   floors_total          23613 non-null  float64\n",
      " 7   living_area           21796 non-null  float64\n",
      " 8   floor                 23699 non-null  int64  \n",
      " 9   is_apartment          2775 non-null   object \n",
      " 10  studio                23699 non-null  bool   \n",
      " 11  open_plan             23699 non-null  bool   \n",
      " 12  kitchen_area          21421 non-null  float64\n",
      " 13  balcony               12180 non-null  float64\n",
      " 14  locality_name         23650 non-null  object \n",
      " 15  airports_nearest      23699 non-null  float64\n",
      " 16  cityCenters_nearest   23699 non-null  float64\n",
      " 17  parks_around3000      23699 non-null  float64\n",
      " 18  parks_nearest         23699 non-null  float64\n",
      " 19  ponds_around3000      23699 non-null  float64\n",
      " 20  ponds_nearest         23699 non-null  float64\n",
      " 21  days_exposition       20518 non-null  float64\n",
      "dtypes: bool(2), float64(14), int64(3), object(3)\n",
      "memory usage: 3.7+ MB\n"
     ]
    }
   ],
   "source": [
    "df.info()"
   ]
  },
  {
   "cell_type": "markdown",
   "id": "interracial-angola",
   "metadata": {},
   "source": [
    "1. living_area - сгруппируем по количеству комнат\n",
    "2. is_apartment = False\n",
    "3. balcony - заменим NaN на 0\n",
    "4. locality_name - удалим пропуски\n",
    "5. days_exposition - пропуск - объявление еще не снято. около 10% пропусков."
   ]
  },
  {
   "cell_type": "markdown",
   "id": "lasting-portfolio",
   "metadata": {},
   "source": [
    "Наблюдаем тесную связь между floors_total и floor. Сгруппируем столбец floor на 3 группы: <= 10 этажей, от 10 до 20, > 20. Пропуски заполним средней по каждой группе.\n"
   ]
  },
  {
   "cell_type": "code",
   "execution_count": 8,
   "id": "defined-angle",
   "metadata": {},
   "outputs": [
    {
     "data": {
      "text/plain": [
       "0.6780586338440991"
      ]
     },
     "execution_count": 8,
     "metadata": {},
     "output_type": "execute_result"
    }
   ],
   "source": [
    "df['floors_total'].corr(df['floor'])"
   ]
  },
  {
   "cell_type": "code",
   "execution_count": 9,
   "id": "heated-secret",
   "metadata": {},
   "outputs": [],
   "source": [
    "def floor_by_group(row):\n",
    "    if row['floor'] <= 10:\n",
    "        return 'до 10 этажей'\n",
    "    elif 10 < row['floor'] <= 20:\n",
    "        return '10-20 этажей'\n",
    "    else:\n",
    "        return 'больше 20 этажей'\n",
    "\n",
    "df['floor_by_group'] = df.apply(floor_by_group, axis=1)"
   ]
  },
  {
   "cell_type": "code",
   "execution_count": 10,
   "id": "blessed-asbestos",
   "metadata": {},
   "outputs": [
    {
     "data": {
      "text/plain": [
       "0.6091211711198313"
      ]
     },
     "execution_count": 10,
     "metadata": {},
     "output_type": "execute_result"
    }
   ],
   "source": [
    "df['kitchen_area'].corr(df['total_area'])"
   ]
  },
  {
   "cell_type": "markdown",
   "id": "direct-dancing",
   "metadata": {},
   "source": [
    "У столбца kitchen_area хорошая корреляция со столбцом total_area. Сгруппируем total_area. Границы возьмем по округленным Q1 и Q3 - 40 и 70. Пропуски заменим средней по группе."
   ]
  },
  {
   "cell_type": "code",
   "execution_count": 11,
   "id": "quiet-supplement",
   "metadata": {},
   "outputs": [
    {
     "data": {
      "text/plain": [
       "count    23699.000000\n",
       "mean        60.348651\n",
       "std         35.654083\n",
       "min         12.000000\n",
       "25%         40.000000\n",
       "50%         52.000000\n",
       "75%         69.900000\n",
       "max        900.000000\n",
       "Name: total_area, dtype: float64"
      ]
     },
     "execution_count": 11,
     "metadata": {},
     "output_type": "execute_result"
    }
   ],
   "source": [
    "df['total_area'].describe()"
   ]
  },
  {
   "cell_type": "code",
   "execution_count": 12,
   "id": "opposite-collapse",
   "metadata": {},
   "outputs": [],
   "source": [
    "def total_area_by_group(row):\n",
    "    if row['total_area'] <= 40:\n",
    "        return 'до 40 кв м'\n",
    "    elif 40 < row['total_area'] <= 70:\n",
    "        return '40-70 кв м'\n",
    "    else:\n",
    "        return 'больше 70 кв м'\n",
    "\n",
    "df['total_area_by_group'] = df.apply(total_area_by_group, axis=1)"
   ]
  },
  {
   "cell_type": "markdown",
   "id": "interracial-alcohol",
   "metadata": {},
   "source": [
    "Столбец ceiling_height сгруппируем по значениям Q1 и Q3, так как корреляции с другими столбцами нет."
   ]
  },
  {
   "cell_type": "code",
   "execution_count": 13,
   "id": "accompanied-football",
   "metadata": {},
   "outputs": [
    {
     "data": {
      "text/plain": [
       "count    14504.000000\n",
       "mean         2.771499\n",
       "std          1.261056\n",
       "min          1.000000\n",
       "25%          2.520000\n",
       "50%          2.650000\n",
       "75%          2.800000\n",
       "max        100.000000\n",
       "Name: ceiling_height, dtype: float64"
      ]
     },
     "execution_count": 13,
     "metadata": {},
     "output_type": "execute_result"
    }
   ],
   "source": [
    "df['ceiling_height'].describe()"
   ]
  },
  {
   "cell_type": "code",
   "execution_count": 14,
   "id": "bronze-water",
   "metadata": {},
   "outputs": [
    {
     "data": {
      "text/plain": [
       "более 2.8 м    12270\n",
       "2.5-2.8 м       7841\n",
       "до 2.5 м        3588\n",
       "Name: ceiling_height_by_group, dtype: int64"
      ]
     },
     "execution_count": 14,
     "metadata": {},
     "output_type": "execute_result"
    }
   ],
   "source": [
    "def ceiling_height_by_group(row):\n",
    "    if row['ceiling_height'] <= 2.5:\n",
    "        return 'до 2.5 м'\n",
    "    elif 2.5 < row['ceiling_height'] <= 2.8:\n",
    "        return '2.5-2.8 м'\n",
    "    else:\n",
    "        return 'более 2.8 м'\n",
    "\n",
    "df['ceiling_height_by_group'] = df.apply(ceiling_height_by_group, axis=1)\n",
    "df['ceiling_height_by_group'].value_counts()"
   ]
  },
  {
   "cell_type": "code",
   "execution_count": 15,
   "id": "built-slope",
   "metadata": {},
   "outputs": [
    {
     "data": {
      "text/plain": [
       "rooms\n",
       "0      18.000\n",
       "1      17.600\n",
       "2      30.500\n",
       "3      45.000\n",
       "4      63.600\n",
       "5      91.785\n",
       "6     123.900\n",
       "7     145.000\n",
       "8     161.000\n",
       "9     179.200\n",
       "10    161.400\n",
       "11    133.900\n",
       "12    409.700\n",
       "14    195.150\n",
       "15    409.000\n",
       "16    180.000\n",
       "19    264.500\n",
       "Name: living_area, dtype: float64"
      ]
     },
     "execution_count": 15,
     "metadata": {},
     "output_type": "execute_result"
    }
   ],
   "source": [
    "df.groupby('rooms')['living_area'].median()"
   ]
  },
  {
   "cell_type": "code",
   "execution_count": 16,
   "id": "mobile-setting",
   "metadata": {},
   "outputs": [],
   "source": [
    "df['living_area'] = df.groupby('rooms')['living_area'].apply(lambda x: x.fillna(x.median()))\n",
    "df['floors_total'] = df.groupby('floor_by_group')['floors_total'].apply(lambda x: x.fillna(x.mean()))\n",
    "df['kitchen_area'] = df.groupby('total_area_by_group')['kitchen_area'].apply(lambda x: x.fillna(x.mean()))\n",
    "df['ceiling_height'] = df.groupby('ceiling_height_by_group')['ceiling_height'].apply(lambda x: x.fillna(x.mean()))"
   ]
  },
  {
   "cell_type": "markdown",
   "id": "disciplinary-richards",
   "metadata": {},
   "source": [
    "Мы вместо медианных значений в столбцах floors_total, kitchen_area и ceiling_height заменили пропуски на среднее по группе. Для жилой площади провели замену медианным значением, применив лямбда-функцию. \n",
    "floors_total заменили средней по группам (этаж), так как прослеживается корреляция между двумя показателями.\n",
    "kitchen_area заменили средней по группам (площадь квартиры), так как корреляция тоже выше среднего.\n",
    "ceiling_height заменили средней по группам. Взяли показатели квартилей и поделили ceiling_height на 3 группы: до 2.5 м, 2.5 - 2.8 м, более 2.8 м."
   ]
  },
  {
   "cell_type": "code",
   "execution_count": 17,
   "id": "affecting-director",
   "metadata": {},
   "outputs": [
    {
     "name": "stdout",
     "output_type": "stream",
     "text": [
      "<class 'pandas.core.frame.DataFrame'>\n",
      "RangeIndex: 23699 entries, 0 to 23698\n",
      "Data columns (total 25 columns):\n",
      " #   Column                   Non-Null Count  Dtype  \n",
      "---  ------                   --------------  -----  \n",
      " 0   total_images             23699 non-null  int64  \n",
      " 1   last_price               23699 non-null  float64\n",
      " 2   total_area               23699 non-null  float64\n",
      " 3   first_day_exposition     23699 non-null  object \n",
      " 4   rooms                    23699 non-null  int64  \n",
      " 5   ceiling_height           23699 non-null  float64\n",
      " 6   floors_total             23699 non-null  float64\n",
      " 7   living_area              23699 non-null  float64\n",
      " 8   floor                    23699 non-null  int64  \n",
      " 9   is_apartment             2775 non-null   object \n",
      " 10  studio                   23699 non-null  bool   \n",
      " 11  open_plan                23699 non-null  bool   \n",
      " 12  kitchen_area             23699 non-null  float64\n",
      " 13  balcony                  12180 non-null  float64\n",
      " 14  locality_name            23650 non-null  object \n",
      " 15  airports_nearest         23699 non-null  float64\n",
      " 16  cityCenters_nearest      23699 non-null  float64\n",
      " 17  parks_around3000         23699 non-null  float64\n",
      " 18  parks_nearest            23699 non-null  float64\n",
      " 19  ponds_around3000         23699 non-null  float64\n",
      " 20  ponds_nearest            23699 non-null  float64\n",
      " 21  days_exposition          20518 non-null  float64\n",
      " 22  floor_by_group           23699 non-null  object \n",
      " 23  total_area_by_group      23699 non-null  object \n",
      " 24  ceiling_height_by_group  23699 non-null  object \n",
      "dtypes: bool(2), float64(14), int64(3), object(6)\n",
      "memory usage: 4.2+ MB\n"
     ]
    }
   ],
   "source": [
    "df.info()"
   ]
  },
  {
   "cell_type": "markdown",
   "id": "adequate-bloom",
   "metadata": {},
   "source": [
    "#### Изменение типа данных\n",
    "Обработаем столбцы:"
   ]
  },
  {
   "cell_type": "code",
   "execution_count": 18,
   "id": "public-seating",
   "metadata": {},
   "outputs": [],
   "source": [
    "df['is_apartment'] = df['is_apartment'].fillna(False).astype(int)\n",
    "df['balcony'] = df['balcony'].fillna(0).astype(int)\n",
    "df.dropna(subset=['locality_name'], inplace=True) #удаляем все строки, где есть пропущенные значения в столбце locality_name\n",
    "df['locality_name'] = df['locality_name'].replace('деревня Кудрово', 'Кудрово')"
   ]
  },
  {
   "cell_type": "code",
   "execution_count": 19,
   "id": "modified-hawaiian",
   "metadata": {},
   "outputs": [
    {
     "data": {
      "text/plain": [
       "array(['Санкт-Петербург', 'посёлок Шушары', 'городской посёлок Янино-1',\n",
       "       'посёлок Парголово', 'посёлок Мурино', 'Ломоносов', 'Сертолово',\n",
       "       'Петергоф', 'Пушкин', 'Кудрово', 'Коммунар', 'Колпино',\n",
       "       'поселок городского типа Красный Бор', 'Гатчина', 'поселок Мурино',\n",
       "       'деревня Фёдоровское', 'Выборг', 'Кронштадт', 'Кировск',\n",
       "       'деревня Новое Девяткино', 'посёлок Металлострой',\n",
       "       'посёлок городского типа Лебяжье',\n",
       "       'посёлок городского типа Сиверский', 'поселок Молодцово',\n",
       "       'поселок городского типа Кузьмоловский',\n",
       "       'садовое товарищество Новая Ропша', 'Павловск',\n",
       "       'деревня Пикколово', 'Всеволожск', 'Волхов', 'Кингисепп',\n",
       "       'Приозерск', 'Сестрорецк', 'деревня Куттузи', 'посёлок Аннино',\n",
       "       'поселок городского типа Ефимовский', 'посёлок Плодовое',\n",
       "       'деревня Заклинье', 'поселок Торковичи', 'поселок Первомайское',\n",
       "       'Красное Село', 'посёлок Понтонный', 'Сясьстрой', 'деревня Старая',\n",
       "       'деревня Лесколово', 'посёлок Новый Свет', 'Сланцы',\n",
       "       'село Путилово', 'Ивангород', 'Мурино', 'Шлиссельбург',\n",
       "       'Никольское', 'Зеленогорск', 'Сосновый Бор', 'поселок Новый Свет',\n",
       "       'деревня Оржицы', 'деревня Кальтино', 'поселок Романовка',\n",
       "       'посёлок Бугры', 'поселок Бугры', 'поселок городского типа Рощино',\n",
       "       'Кириши', 'Луга', 'Волосово', 'Отрадное', 'село Павлово',\n",
       "       'поселок Оредеж', 'село Копорье',\n",
       "       'посёлок городского типа Красный Бор', 'посёлок Молодёжное',\n",
       "       'Тихвин', 'посёлок Победа', 'деревня Нурма',\n",
       "       'поселок городского типа Синявино', 'Тосно',\n",
       "       'посёлок городского типа Кузьмоловский', 'посёлок Стрельна',\n",
       "       'Бокситогорск', 'посёлок Александровская', 'деревня Лопухинка',\n",
       "       'Пикалёво', 'поселок Терволово',\n",
       "       'поселок городского типа Советский', 'Подпорожье',\n",
       "       'посёлок Петровское', 'посёлок городского типа Токсово',\n",
       "       'поселок Сельцо', 'посёлок городского типа Вырица',\n",
       "       'деревня Кипень', 'деревня Келози', 'деревня Вартемяги',\n",
       "       'посёлок Тельмана', 'поселок Севастьяново',\n",
       "       'городской поселок Большая Ижора', 'городской посёлок Павлово',\n",
       "       'деревня Агалатово', 'посёлок Новогорелово',\n",
       "       'городской посёлок Лесогорский', 'деревня Лаголово',\n",
       "       'поселок Цвелодубово', 'поселок городского типа Рахья',\n",
       "       'поселок городского типа Вырица', 'деревня Белогорка',\n",
       "       'поселок Заводской', 'городской посёлок Новоселье',\n",
       "       'деревня Большие Колпаны', 'деревня Горбунки', 'деревня Батово',\n",
       "       'деревня Заневка', 'деревня Иссад', 'Приморск',\n",
       "       'городской посёлок Фёдоровское', 'деревня Мистолово',\n",
       "       'Новая Ладога', 'поселок Зимитицы', 'поселок Барышево',\n",
       "       'деревня Разметелево', 'поселок городского типа имени Свердлова',\n",
       "       'деревня Пеники', 'поселок Рябово', 'деревня Пудомяги',\n",
       "       'поселок станции Корнево', 'деревня Низино', 'деревня Бегуницы',\n",
       "       'посёлок Поляны', 'городской посёлок Мга', 'поселок Елизаветино',\n",
       "       'посёлок городского типа Кузнечное', 'деревня Колтуши',\n",
       "       'поселок Запорожское', 'посёлок городского типа Рощино',\n",
       "       'деревня Гостилицы', 'деревня Малое Карлино',\n",
       "       'посёлок Мичуринское', 'посёлок городского типа имени Морозова',\n",
       "       'посёлок Песочный', 'посёлок Сосново', 'деревня Аро',\n",
       "       'поселок Ильичёво', 'посёлок городского типа Тайцы',\n",
       "       'деревня Малое Верево', 'деревня Извара', 'поселок станции Вещево',\n",
       "       'село Паша', 'деревня Калитино',\n",
       "       'посёлок городского типа Ульяновка', 'деревня Чудской Бор',\n",
       "       'поселок городского типа Дубровка', 'деревня Мины',\n",
       "       'поселок Войсковицы', 'посёлок городского типа имени Свердлова',\n",
       "       'деревня Коркино', 'посёлок Ропша',\n",
       "       'поселок городского типа Приладожский', 'посёлок Щеглово',\n",
       "       'посёлок Гаврилово', 'Лодейное Поле', 'деревня Рабитицы',\n",
       "       'поселок городского типа Никольский', 'деревня Кузьмолово',\n",
       "       'деревня Малые Колпаны', 'поселок Тельмана',\n",
       "       'посёлок Петро-Славянка', 'городской посёлок Назия',\n",
       "       'посёлок Репино', 'посёлок Ильичёво', 'поселок Углово',\n",
       "       'поселок Старая Малукса', 'садовое товарищество Рахья',\n",
       "       'поселок Аннино', 'поселок Победа', 'деревня Меньково',\n",
       "       'деревня Старые Бегуницы', 'посёлок Сапёрный', 'поселок Семрино',\n",
       "       'поселок Гаврилово', 'поселок Глажево', 'поселок Кобринское',\n",
       "       'деревня Гарболово', 'деревня Юкки',\n",
       "       'поселок станции Приветнинское', 'деревня Мануйлово',\n",
       "       'деревня Пчева', 'поселок Поляны', 'поселок Цвылёво',\n",
       "       'поселок Мельниково', 'посёлок Пудость', 'посёлок Усть-Луга',\n",
       "       'Светогорск', 'Любань', 'поселок Селезнёво',\n",
       "       'поселок городского типа Рябово', 'Каменногорск', 'деревня Кривко',\n",
       "       'поселок Глебычево', 'деревня Парицы', 'поселок Жилпосёлок',\n",
       "       'посёлок городского типа Мга', 'городской поселок Янино-1',\n",
       "       'посёлок Войскорово', 'село Никольское', 'посёлок Терволово',\n",
       "       'поселок Стеклянный', 'посёлок городского типа Важины',\n",
       "       'посёлок Мыза-Ивановка', 'село Русско-Высоцкое',\n",
       "       'поселок городского типа Лебяжье',\n",
       "       'поселок городского типа Форносово', 'село Старая Ладога',\n",
       "       'поселок Житково', 'городской посёлок Виллози', 'деревня Лампово',\n",
       "       'деревня Шпаньково', 'деревня Лаврики', 'посёлок Сумино',\n",
       "       'посёлок Возрождение', 'деревня Старосиверская',\n",
       "       'посёлок Кикерино', 'поселок Возрождение',\n",
       "       'деревня Старое Хинколово', 'посёлок Пригородный',\n",
       "       'посёлок Торфяное', 'городской посёлок Будогощь',\n",
       "       'поселок Суходолье', 'поселок Красная Долина', 'деревня Хапо-Ое',\n",
       "       'поселок городского типа Дружная Горка', 'поселок Лисий Нос',\n",
       "       'деревня Яльгелево', 'посёлок Стеклянный', 'село Рождествено',\n",
       "       'деревня Старополье', 'посёлок Левашово', 'деревня Сяськелево',\n",
       "       'деревня Камышовка',\n",
       "       'садоводческое некоммерческое товарищество Лесная Поляна',\n",
       "       'деревня Хязельки', 'поселок Жилгородок',\n",
       "       'посёлок городского типа Павлово', 'деревня Ялгино',\n",
       "       'поселок Новый Учхоз', 'городской посёлок Рощино',\n",
       "       'поселок Гончарово', 'поселок Почап', 'посёлок Сапёрное',\n",
       "       'посёлок Платформа 69-й километр', 'поселок Каложицы',\n",
       "       'деревня Фалилеево', 'деревня Пельгора',\n",
       "       'поселок городского типа Лесогорский', 'деревня Торошковичи',\n",
       "       'посёлок Белоостров', 'посёлок Алексеевка', 'поселок Серебрянский',\n",
       "       'поселок Лукаши', 'поселок Петровское', 'деревня Щеглово',\n",
       "       'поселок Мичуринское', 'деревня Тарасово', 'поселок Кингисеппский',\n",
       "       'посёлок при железнодорожной станции Вещево', 'поселок Ушаки',\n",
       "       'деревня Котлы', 'деревня Сижно', 'деревня Торосово',\n",
       "       'посёлок Форт Красная Горка', 'поселок городского типа Токсово',\n",
       "       'деревня Новолисино', 'посёлок станции Громово', 'деревня Глинка',\n",
       "       'посёлок Мельниково', 'поселок городского типа Назия',\n",
       "       'деревня Старая Пустошь', 'поселок Коммунары', 'поселок Починок',\n",
       "       'посёлок городского типа Вознесенье', 'деревня Разбегаево',\n",
       "       'посёлок городского типа Рябово', 'поселок Гладкое',\n",
       "       'посёлок при железнодорожной станции Приветнинское',\n",
       "       'поселок Тёсово-4', 'посёлок Жилгородок', 'деревня Бор',\n",
       "       'посёлок Коробицыно', 'деревня Большая Вруда', 'деревня Курковицы',\n",
       "       'посёлок Лисий Нос', 'городской посёлок Советский',\n",
       "       'посёлок Кобралово', 'деревня Суоранда', 'поселок Кобралово',\n",
       "       'поселок городского типа Кондратьево',\n",
       "       'коттеджный поселок Счастье', 'поселок Любань', 'деревня Реброво',\n",
       "       'деревня Зимитицы', 'деревня Тойворово', 'поселок Семиозерье',\n",
       "       'поселок Лесное', 'поселок Совхозный', 'поселок Усть-Луга',\n",
       "       'посёлок Ленинское', 'посёлок Суйда',\n",
       "       'посёлок городского типа Форносово', 'деревня Нижние Осельки',\n",
       "       'посёлок станции Свирь', 'поселок Перово', 'Высоцк',\n",
       "       'поселок Гарболово', 'село Шум', 'поселок Котельский',\n",
       "       'поселок станции Лужайка', 'деревня Большая Пустомержа',\n",
       "       'поселок Красносельское', 'деревня Вахнова Кара', 'деревня Пижма',\n",
       "       'коттеджный поселок Кивеннапа Север', 'поселок Коробицыно',\n",
       "       'поселок Ромашки', 'посёлок Перово', 'деревня Каськово',\n",
       "       'деревня Куровицы', 'посёлок Плоское', 'поселок Сумино',\n",
       "       'поселок городского типа Большая Ижора', 'поселок Кирпичное',\n",
       "       'деревня Ям-Тесово', 'деревня Раздолье', 'деревня Терпилицы',\n",
       "       'посёлок Шугозеро', 'деревня Ваганово', 'поселок Пушное',\n",
       "       'садовое товарищество Садко', 'посёлок Усть-Ижора',\n",
       "       'деревня Выскатка', 'городской посёлок Свирьстрой',\n",
       "       'поселок Громово', 'деревня Кисельня', 'посёлок Старая Малукса',\n",
       "       'деревня Трубников Бор', 'поселок Калитино',\n",
       "       'посёлок Высокоключевой', 'садовое товарищество Приладожский',\n",
       "       'посёлок Пансионат Зелёный Бор', 'деревня Ненимяки',\n",
       "       'поселок Пансионат Зелёный Бор', 'деревня Снегирёвка',\n",
       "       'деревня Рапполово', 'деревня Пустынка', 'поселок Рабитицы',\n",
       "       'деревня Большой Сабск', 'деревня Русско', 'деревня Лупполово',\n",
       "       'деревня Большое Рейзино', 'деревня Малая Романовка',\n",
       "       'поселок Дружноселье', 'поселок Пчевжа', 'поселок Володарское',\n",
       "       'деревня Нижняя', 'коттеджный посёлок Лесное', 'деревня Тихковицы',\n",
       "       'деревня Борисова Грива', 'посёлок Дзержинского'], dtype=object)"
      ]
     },
     "execution_count": 19,
     "metadata": {},
     "output_type": "execute_result"
    }
   ],
   "source": [
    "df['locality_name'].unique()"
   ]
  },
  {
   "cell_type": "markdown",
   "id": "unauthorized-ferry",
   "metadata": {},
   "source": [
    "В этом датафрейме есть такие метрики как: расстояние, число водоемов, парков, всего этажей в доме, этаж. Таким данным больше подходит тип int."
   ]
  },
  {
   "cell_type": "code",
   "execution_count": 20,
   "id": "hawaiian-leonard",
   "metadata": {},
   "outputs": [
    {
     "name": "stdout",
     "output_type": "stream",
     "text": [
      "<class 'pandas.core.frame.DataFrame'>\n",
      "Int64Index: 23650 entries, 0 to 23698\n",
      "Data columns (total 25 columns):\n",
      " #   Column                   Non-Null Count  Dtype  \n",
      "---  ------                   --------------  -----  \n",
      " 0   total_images             23650 non-null  int64  \n",
      " 1   last_price               23650 non-null  float64\n",
      " 2   total_area               23650 non-null  float64\n",
      " 3   first_day_exposition     23650 non-null  object \n",
      " 4   rooms                    23650 non-null  int64  \n",
      " 5   ceiling_height           23650 non-null  float64\n",
      " 6   floors_total             23650 non-null  int64  \n",
      " 7   living_area              23650 non-null  float64\n",
      " 8   floor                    23650 non-null  int64  \n",
      " 9   is_apartment             23650 non-null  int64  \n",
      " 10  studio                   23650 non-null  bool   \n",
      " 11  open_plan                23650 non-null  bool   \n",
      " 12  kitchen_area             23650 non-null  float64\n",
      " 13  balcony                  23650 non-null  int64  \n",
      " 14  locality_name            23650 non-null  object \n",
      " 15  airports_nearest         23650 non-null  int64  \n",
      " 16  cityCenters_nearest      23650 non-null  int64  \n",
      " 17  parks_around3000         23650 non-null  int64  \n",
      " 18  parks_nearest            23650 non-null  int64  \n",
      " 19  ponds_around3000         23650 non-null  int64  \n",
      " 20  ponds_nearest            23650 non-null  int64  \n",
      " 21  days_exposition          20470 non-null  float64\n",
      " 22  floor_by_group           23650 non-null  object \n",
      " 23  total_area_by_group      23650 non-null  object \n",
      " 24  ceiling_height_by_group  23650 non-null  object \n",
      "dtypes: bool(2), float64(6), int64(12), object(5)\n",
      "memory usage: 4.4+ MB\n"
     ]
    }
   ],
   "source": [
    "columns_to_int = ['airports_nearest', 'cityCenters_nearest', 'parks_around3000', 'parks_nearest', 'ponds_around3000', 'ponds_nearest', 'floors_total']\n",
    "for column in columns_to_int:\n",
    "    df[column] = df[column].astype(int)\n",
    "df.info()"
   ]
  },
  {
   "cell_type": "markdown",
   "id": "naughty-forestry",
   "metadata": {},
   "source": [
    "#### Вывод\n",
    "Многие пропуски заменили медианой, так как она сглаживает выбросы. Значения в стобце is_apartment пропускается пользователями, так как их недвижимость не является аппартаментами. Также некоторые значения заполнили нулями, например, в столбце balcony. Если значение отсуствует, значит балконов действительно нет. \n",
    "Некоторые столбцы привели к типу int, так как с ним проще проводить анализ."
   ]
  },
  {
   "cell_type": "markdown",
   "id": "finnish-navigator",
   "metadata": {},
   "source": [
    "### Шаг 3. Посчитайте и добавьте в таблицу:\n",
    "1. цену квадратного метра;"
   ]
  },
  {
   "cell_type": "code",
   "execution_count": 21,
   "id": "preceding-bryan",
   "metadata": {},
   "outputs": [],
   "source": [
    "df['square_meter_price'] = df['last_price'] / df['total_area']"
   ]
  },
  {
   "cell_type": "markdown",
   "id": "united-commander",
   "metadata": {},
   "source": [
    "2. день недели, месяц и год публикации объявления;"
   ]
  },
  {
   "cell_type": "code",
   "execution_count": 22,
   "id": "pressing-characterization",
   "metadata": {},
   "outputs": [],
   "source": [
    "df['first_day_exposition'] = pd.to_datetime(df['first_day_exposition'], format='%Y-%m-%dT%H:%M:%S')"
   ]
  },
  {
   "cell_type": "code",
   "execution_count": 23,
   "id": "opposed-martin",
   "metadata": {
    "scrolled": true
   },
   "outputs": [],
   "source": [
    "df['weekday'] = pd.DatetimeIndex(df['first_day_exposition']).weekday\n",
    "df['month'] = pd.DatetimeIndex(df['first_day_exposition']).month\n",
    "df['year'] = pd.DatetimeIndex(df['first_day_exposition']).year"
   ]
  },
  {
   "cell_type": "markdown",
   "id": "further-chancellor",
   "metadata": {},
   "source": [
    "3. этаж квартиры;"
   ]
  },
  {
   "cell_type": "code",
   "execution_count": 24,
   "id": "above-tooth",
   "metadata": {},
   "outputs": [
    {
     "data": {
      "text/plain": [
       "Другой       17400\n",
       "Последний     3338\n",
       "Первый        2912\n",
       "Name: apartment_floor, dtype: int64"
      ]
     },
     "execution_count": 24,
     "metadata": {},
     "output_type": "execute_result"
    }
   ],
   "source": [
    "def apartment_floor(row):\n",
    "    if row['floor'] == 1:\n",
    "        return 'Первый'\n",
    "    elif row['floor'] == row['floors_total']:\n",
    "        return 'Последний'\n",
    "    else:\n",
    "        return 'Другой'\n",
    "df['apartment_floor'] = df.apply(apartment_floor, axis=1)\n",
    "df['apartment_floor'].value_counts()"
   ]
  },
  {
   "cell_type": "markdown",
   "id": "popular-colombia",
   "metadata": {},
   "source": [
    "4. соотношение жилой и общей площади, а также отношение площади кухни к общей."
   ]
  },
  {
   "cell_type": "code",
   "execution_count": 25,
   "id": "wicked-joseph",
   "metadata": {},
   "outputs": [],
   "source": [
    "df['living_area_part'] = df['living_area'] / df['total_area']\n",
    "df['kitchen_area_part'] = df['kitchen_area'] / df['total_area']"
   ]
  },
  {
   "cell_type": "markdown",
   "id": "hazardous-dependence",
   "metadata": {},
   "source": [
    "#### Вывод\n",
    "Добавлены новые признаки, которые будут важны для анализа. Этаж квартиры поделили на 3 главные категории. Добавили отношение жилой и общей площади, а также площади кухни к общей площади.\n",
    "\n",
    "### Шаг 4. Проведите исследовательский анализ данных и выполните инструкции:"
   ]
  },
  {
   "cell_type": "markdown",
   "id": "agricultural-blues",
   "metadata": {},
   "source": [
    "##### Изучим параметры площади, цены, числа комнат, высоты потолков. Построим гистограммы для каждого параметра."
   ]
  },
  {
   "cell_type": "code",
   "execution_count": 26,
   "id": "emotional-veteran",
   "metadata": {},
   "outputs": [
    {
     "data": {
      "text/plain": [
       "Text(0, 0.5, 'Количество квартир')"
      ]
     },
     "execution_count": 26,
     "metadata": {},
     "output_type": "execute_result"
    },
    {
     "data": {
      "image/png": "[encoded data removed]",
      "text/plain": [
       "<Figure size 432x288 with 1 Axes>"
      ]
     },
     "metadata": {
      "needs_background": "light"
     },
     "output_type": "display_data"
    }
   ],
   "source": [
    "df['total_area'].hist(bins=20, range=(20, 150))\n",
    "plt.title('Распределение общей площади квартиры, кв.м.')\n",
    "plt.xlabel('Площадь квартиры, кв.м.')\n",
    "plt.ylabel('Количество квартир')"
   ]
  },
  {
   "cell_type": "markdown",
   "id": "freelance-light",
   "metadata": {},
   "source": [
    "Площадь имеет среднее значение от 30 до 65 кв.м."
   ]
  },
  {
   "cell_type": "code",
   "execution_count": 27,
   "id": "neither-delhi",
   "metadata": {},
   "outputs": [
    {
     "data": {
      "text/plain": [
       "Text(0, 0.5, 'Количество квартир')"
      ]
     },
     "execution_count": 27,
     "metadata": {},
     "output_type": "execute_result"
    },
    {
     "data": {
      "image/png": "[encoded data removed]",
      "text/plain": [
       "<Figure size 432x288 with 1 Axes>"
      ]
     },
     "metadata": {
      "needs_background": "light"
     },
     "output_type": "display_data"
    }
   ],
   "source": [
    "df['last_price_million'] = df['last_price'] / 1000000\n",
    "df['last_price_million'].hist(bins=30, range=(1, 20))\n",
    "plt.title('Распределение стоимости квартир, млн.руб.')\n",
    "plt.xlabel('Стоимость квартиры, млн.руб.')\n",
    "plt.ylabel('Количество квартир')"
   ]
  },
  {
   "cell_type": "markdown",
   "id": "prime-bloom",
   "metadata": {},
   "source": [
    "В среднем квартиры стоят от 2.5 до 5 млн.руб."
   ]
  },
  {
   "cell_type": "code",
   "execution_count": 28,
   "id": "composed-panic",
   "metadata": {},
   "outputs": [
    {
     "data": {
      "text/plain": [
       "<AxesSubplot:>"
      ]
     },
     "execution_count": 28,
     "metadata": {},
     "output_type": "execute_result"
    },
    {
     "data": {
      "image/png": "[encoded data removed]",
      "text/plain": [
       "<Figure size 432x288 with 1 Axes>"
      ]
     },
     "metadata": {
      "needs_background": "light"
     },
     "output_type": "display_data"
    }
   ],
   "source": [
    "df['rooms'].hist(bins=30, range=(1, 7))"
   ]
  },
  {
   "cell_type": "markdown",
   "id": "drawn-pregnancy",
   "metadata": {},
   "source": [
    "В среднем квартиры имеют от 1 до 3 комнат."
   ]
  },
  {
   "cell_type": "code",
   "execution_count": 29,
   "id": "fifteen-victory",
   "metadata": {},
   "outputs": [
    {
     "data": {
      "text/plain": [
       "<AxesSubplot:>"
      ]
     },
     "execution_count": 29,
     "metadata": {},
     "output_type": "execute_result"
    },
    {
     "data": {
      "image/png": "[encoded data removed]",
      "text/plain": [
       "<Figure size 432x288 with 1 Axes>"
      ]
     },
     "metadata": {
      "needs_background": "light"
     },
     "output_type": "display_data"
    }
   ],
   "source": [
    "df['ceiling_height'].hist(bins=10, range=(1, 5))"
   ]
  },
  {
   "cell_type": "markdown",
   "id": "alien-closure",
   "metadata": {},
   "source": [
    "Чаще всего квартиры имеют потолки от 2 до 3.5 метров.\n",
    "\n",
    "##### Изучим время продажи квартиры. Построим гистограмму. Посчитаем среднее и медиану. Опишем, сколько обычно занимает продажа. Узнаем, когда можно считать, что продажи прошли очень быстро, а когда необычно долго."
   ]
  },
  {
   "cell_type": "markdown",
   "id": "australian-december",
   "metadata": {},
   "source": [
    "У столбца days_exposition хорошая корреляция со столбцом year (-0.611616). Сгруппируем данные по столбцу year и заполним пропуски в days_exposition медианным значением по группе. Проверим, нет ли пропущенных значений."
   ]
  },
  {
   "cell_type": "code",
   "execution_count": 30,
   "id": "touched-president",
   "metadata": {},
   "outputs": [],
   "source": [
    "#df.corr()\n",
    "df['days_exposition'] = df.groupby('year')['days_exposition'].apply(lambda x: x.fillna(x.median()))\n",
    "#df['days_exposition'].isna().sum()  0"
   ]
  },
  {
   "cell_type": "code",
   "execution_count": 31,
   "id": "attended-cincinnati",
   "metadata": {},
   "outputs": [
    {
     "data": {
      "text/plain": [
       "Text(0, 0.5, 'Количество квартир')"
      ]
     },
     "execution_count": 31,
     "metadata": {},
     "output_type": "execute_result"
    },
    {
     "data": {
      "image/png": "[encoded data removed]",
      "text/plain": [
       "<Figure size 432x288 with 1 Axes>"
      ]
     },
     "metadata": {
      "needs_background": "light"
     },
     "output_type": "display_data"
    }
   ],
   "source": [
    "df['days_exposition'].hist(bins=30, range=(0,600))\n",
    "plt.title('Распределение времени продажи, млн.руб.')\n",
    "plt.xlabel('Количество дней, млн.руб.')\n",
    "plt.ylabel('Количество квартир')"
   ]
  },
  {
   "cell_type": "code",
   "execution_count": 32,
   "id": "found-circumstances",
   "metadata": {},
   "outputs": [
    {
     "data": {
      "text/plain": [
       "count    23650.000000\n",
       "mean       165.027548\n",
       "std        211.949527\n",
       "min          1.000000\n",
       "25%         35.000000\n",
       "50%         80.000000\n",
       "75%        203.000000\n",
       "max       1580.000000\n",
       "Name: days_exposition, dtype: float64"
      ]
     },
     "execution_count": 32,
     "metadata": {},
     "output_type": "execute_result"
    }
   ],
   "source": [
    "df['days_exposition'].describe()"
   ]
  },
  {
   "cell_type": "markdown",
   "id": "democratic-document",
   "metadata": {},
   "source": [
    "Среднее - 165, медиана - 80 дней."
   ]
  },
  {
   "cell_type": "code",
   "execution_count": 33,
   "id": "featured-algeria",
   "metadata": {},
   "outputs": [
    {
     "data": {
      "text/plain": [
       "10.0"
      ]
     },
     "execution_count": 33,
     "metadata": {},
     "output_type": "execute_result"
    }
   ],
   "source": [
    "df['days_exposition'].quantile(0.05)"
   ]
  },
  {
   "cell_type": "code",
   "execution_count": 34,
   "id": "genuine-billy",
   "metadata": {},
   "outputs": [
    {
     "data": {
      "text/plain": [
       "608.0"
      ]
     },
     "execution_count": 34,
     "metadata": {},
     "output_type": "execute_result"
    }
   ],
   "source": [
    "df['days_exposition'].quantile(0.95)"
   ]
  },
  {
   "cell_type": "code",
   "execution_count": 35,
   "id": "comprehensive-scroll",
   "metadata": {},
   "outputs": [
    {
     "data": {
      "text/plain": [
       "(-10.0, 500.0)"
      ]
     },
     "execution_count": 35,
     "metadata": {},
     "output_type": "execute_result"
    },
    {
     "data": {
      "image/png": "[encoded data removed]",
      "text/plain": [
       "<Figure size 432x288 with 1 Axes>"
      ]
     },
     "metadata": {
      "needs_background": "light"
     },
     "output_type": "display_data"
    }
   ],
   "source": [
    "df.boxplot('days_exposition')\n",
    "plt.ylim(-10, 500)"
   ]
  },
  {
   "cell_type": "markdown",
   "id": "prompt-while",
   "metadata": {},
   "source": [
    "#### Вывод\n",
    "Ожидаемое распределение времени продажи квартиры - гистограмма с длинным хвостом на высоких значениях и падением в ноль слева от пика, не доходя до нулевого значения. Но мы видим на гистограмме падение в ноль. Присутствуют аномально быстрые продажи.\n",
    "\n",
    "Среднее число дней продажи квартир выше чем медиана в 2 раза. В распределении длинный хвост высоких значений, влияющих на среднее, но не на медиану.\n",
    "\n",
    "Большая часть квартир продается до 100 дней. Большая часть значений лежит до 200 дней.\n",
    "Нижний ус упирается в ноль. Верхний оканчивается более 450 дней. Это ориентировочная граница нормального размаха. И всё же значения, которые отсёк верхний «ус» — редкие. Видно, насколько медиана (зелёная линия) не стремится к длинному хвосту высоких значений.\n",
    "\n",
    "С помощью персентилей определяем, когда можно считать продажу слишком долгой или быстрой.\n",
    "Аномально быстрая продажа - менее 10 дней, аномально долгая продажа - более 608 дней.\n",
    "\n",
    "Стандартное отклонение 211.949527 подтверждает большое количество выбросов.\n",
    "\n",
    "##### Уберем редкие и выбивающиеся значения. Опишем, какие особенности обнаружили.\n",
    "\n",
    "Во всех стобцах, к которым мы построили гистограммы, прослеживаются выбросы. Посмотрим на площадь квартиры."
   ]
  },
  {
   "cell_type": "code",
   "execution_count": 36,
   "id": "senior-questionnaire",
   "metadata": {},
   "outputs": [
    {
     "data": {
      "image/png": "[encoded data removed]",
      "text/plain": [
       "<Figure size 432x288 with 1 Axes>"
      ]
     },
     "metadata": {
      "needs_background": "light"
     },
     "output_type": "display_data"
    },
    {
     "data": {
      "text/plain": [
       "(0.0, 125.0)"
      ]
     },
     "execution_count": 36,
     "metadata": {},
     "output_type": "execute_result"
    },
    {
     "data": {
      "image/png": "[encoded data removed]",
      "text/plain": [
       "<Figure size 432x288 with 1 Axes>"
      ]
     },
     "metadata": {
      "needs_background": "light"
     },
     "output_type": "display_data"
    }
   ],
   "source": [
    "df['total_area'].hist(bins=60, range=(0, 300))\n",
    "plt.title('Распределение общей площади квартиры, кв.м.')\n",
    "plt.xlabel('Площадь квартиры, кв.м.')\n",
    "plt.ylabel('Количество квартир')\n",
    "plt.show()\n",
    "df.boxplot('total_area')\n",
    "plt.ylim(0, 125)"
   ]
  },
  {
   "cell_type": "markdown",
   "id": "finished-madagascar",
   "metadata": {},
   "source": [
    "Пусть аномальные квартиры с площадью менее 15 кв.м. Дорогие квартиры имеют большую площадь. Нельзя назвать их выбросами."
   ]
  },
  {
   "cell_type": "code",
   "execution_count": 37,
   "id": "federal-modification",
   "metadata": {},
   "outputs": [],
   "source": [
    "df = df.query('total_area >= 15')"
   ]
  },
  {
   "cell_type": "markdown",
   "id": "regional-graphics",
   "metadata": {},
   "source": [
    "Посмотрим на стоимость квартиры в зависимости от ее общей площади."
   ]
  },
  {
   "cell_type": "code",
   "execution_count": 38,
   "id": "periodic-casting",
   "metadata": {},
   "outputs": [
    {
     "data": {
      "text/plain": [
       "<AxesSubplot:xlabel='total_area', ylabel='last_price'>"
      ]
     },
     "execution_count": 38,
     "metadata": {},
     "output_type": "execute_result"
    },
    {
     "data": {
      "image/png": "[encoded data removed]",
      "text/plain": [
       "<Figure size 432x288 with 1 Axes>"
      ]
     },
     "metadata": {
      "needs_background": "light"
     },
     "output_type": "display_data"
    }
   ],
   "source": [
    "df.plot(x='total_area', y='last_price', kind='scatter')"
   ]
  },
  {
   "cell_type": "markdown",
   "id": "involved-mother",
   "metadata": {},
   "source": [
    "Удалим все квартиры, у которых площадь более 100 кв.м. и при этом они стоят менее 5 млн.руб."
   ]
  },
  {
   "cell_type": "code",
   "execution_count": 39,
   "id": "secure-surgery",
   "metadata": {},
   "outputs": [
    {
     "data": {
      "text/plain": [
       "True     23616\n",
       "False       28\n",
       "dtype: int64"
      ]
     },
     "execution_count": 39,
     "metadata": {},
     "output_type": "execute_result"
    }
   ],
   "source": [
    "condition = (df['total_area'] < 100) | (df['last_price_million'] > 5)\n",
    "condition.value_counts()"
   ]
  },
  {
   "cell_type": "code",
   "execution_count": 40,
   "id": "introductory-danish",
   "metadata": {},
   "outputs": [],
   "source": [
    "df = df[condition]"
   ]
  },
  {
   "cell_type": "markdown",
   "id": "appropriate-project",
   "metadata": {},
   "source": [
    "Посмотрим на распределение квартир в зависимости от количества комнат."
   ]
  },
  {
   "cell_type": "code",
   "execution_count": 41,
   "id": "meaning-gnome",
   "metadata": {},
   "outputs": [
    {
     "data": {
      "image/png": "[encoded data removed]",
      "text/plain": [
       "<Figure size 432x288 with 1 Axes>"
      ]
     },
     "metadata": {
      "needs_background": "light"
     },
     "output_type": "display_data"
    },
    {
     "data": {
      "text/plain": [
       "(0.0, 8.0)"
      ]
     },
     "execution_count": 41,
     "metadata": {},
     "output_type": "execute_result"
    },
    {
     "data": {
      "image/png": "[encoded data removed]",
      "text/plain": [
       "<Figure size 432x288 with 1 Axes>"
      ]
     },
     "metadata": {
      "needs_background": "light"
     },
     "output_type": "display_data"
    }
   ],
   "source": [
    "df['rooms'].hist(bins=10, range=(1, 10))\n",
    "plt.title('Распределение квартир по количеству комнат')\n",
    "plt.xlabel('Количество комнат')\n",
    "plt.ylabel('Количество квартир')\n",
    "plt.show()\n",
    "df.boxplot('rooms')\n",
    "plt.ylim(0, 8)"
   ]
  },
  {
   "cell_type": "markdown",
   "id": "meaningful-mortgage",
   "metadata": {},
   "source": [
    "Удалим все квартиры, где комнат менее 1 и более 6."
   ]
  },
  {
   "cell_type": "code",
   "execution_count": 42,
   "id": "ordered-highland",
   "metadata": {},
   "outputs": [],
   "source": [
    "df = df.query('rooms >= 1 and rooms <= 6')"
   ]
  },
  {
   "cell_type": "markdown",
   "id": "emotional-generic",
   "metadata": {},
   "source": [
    "Посмотрим на распределение квартир в зависимости от высоты потолков."
   ]
  },
  {
   "cell_type": "code",
   "execution_count": 43,
   "id": "junior-collectible",
   "metadata": {},
   "outputs": [
    {
     "data": {
      "image/png": "[encoded data removed]",
      "text/plain": [
       "<Figure size 432x288 with 1 Axes>"
      ]
     },
     "metadata": {
      "needs_background": "light"
     },
     "output_type": "display_data"
    },
    {
     "data": {
      "text/plain": [
       "(1.0, 5.0)"
      ]
     },
     "execution_count": 43,
     "metadata": {},
     "output_type": "execute_result"
    },
    {
     "data": {
      "image/png": "[encoded data removed]",
      "text/plain": [
       "<Figure size 432x288 with 1 Axes>"
      ]
     },
     "metadata": {
      "needs_background": "light"
     },
     "output_type": "display_data"
    }
   ],
   "source": [
    "df['ceiling_height'].hist(bins=10, range=(1, 5))\n",
    "plt.title('Распределение квартир по высоте потолков, м')\n",
    "plt.xlabel('Высота потолков, м')\n",
    "plt.ylabel('Количество квартир')\n",
    "plt.show()\n",
    "df.boxplot('ceiling_height')\n",
    "plt.ylim(1, 5)"
   ]
  },
  {
   "cell_type": "markdown",
   "id": "final-veteran",
   "metadata": {},
   "source": [
    "Удалим все квартиры, высота потолков которых менее 2.4 и более 4 м."
   ]
  },
  {
   "cell_type": "code",
   "execution_count": 44,
   "id": "naval-assist",
   "metadata": {},
   "outputs": [],
   "source": [
    "df = df.query('ceiling_height >= 2.4 & ceiling_height <= 4')"
   ]
  },
  {
   "cell_type": "markdown",
   "id": "adopted-dividend",
   "metadata": {},
   "source": [
    "Посмотрим на распределение квартир в зависимости от жилой площади."
   ]
  },
  {
   "cell_type": "code",
   "execution_count": 45,
   "id": "applicable-pound",
   "metadata": {},
   "outputs": [
    {
     "data": {
      "image/png": "[encoded data removed]",
      "text/plain": [
       "<Figure size 432x288 with 1 Axes>"
      ]
     },
     "metadata": {
      "needs_background": "light"
     },
     "output_type": "display_data"
    },
    {
     "data": {
      "text/plain": [
       "(0.0, 90.0)"
      ]
     },
     "execution_count": 45,
     "metadata": {},
     "output_type": "execute_result"
    },
    {
     "data": {
      "image/png": "[encoded data removed]",
      "text/plain": [
       "<Figure size 432x288 with 1 Axes>"
      ]
     },
     "metadata": {
      "needs_background": "light"
     },
     "output_type": "display_data"
    }
   ],
   "source": [
    "df['living_area'].hist(bins=50, range=(1, 300))\n",
    "plt.title('Распределение жилой площади квартиры, кв.м.')\n",
    "plt.xlabel('Жилая площадь квартиры, кв.м.')\n",
    "plt.ylabel('Количество квартир')\n",
    "plt.show()\n",
    "df.boxplot('living_area')\n",
    "plt.ylim(0, 90)"
   ]
  },
  {
   "cell_type": "markdown",
   "id": "compact-planner",
   "metadata": {},
   "source": [
    "Удалим все квартиры, жилая площадь которых менее 10 кв.м."
   ]
  },
  {
   "cell_type": "code",
   "execution_count": 46,
   "id": "close-graduation",
   "metadata": {},
   "outputs": [],
   "source": [
    "df = df.query('living_area >= 10')"
   ]
  },
  {
   "cell_type": "markdown",
   "id": "governmental-charles",
   "metadata": {},
   "source": [
    "Рассмотрим распределение квартир по площади кухни."
   ]
  },
  {
   "cell_type": "code",
   "execution_count": 47,
   "id": "involved-payday",
   "metadata": {},
   "outputs": [
    {
     "data": {
      "image/png": "[encoded data removed]",
      "text/plain": [
       "<Figure size 432x288 with 1 Axes>"
      ]
     },
     "metadata": {
      "needs_background": "light"
     },
     "output_type": "display_data"
    },
    {
     "data": {
      "text/plain": [
       "(0.0, 20.0)"
      ]
     },
     "execution_count": 47,
     "metadata": {},
     "output_type": "execute_result"
    },
    {
     "data": {
      "image/png": "[encoded data removed]",
      "text/plain": [
       "<Figure size 432x288 with 1 Axes>"
      ]
     },
     "metadata": {
      "needs_background": "light"
     },
     "output_type": "display_data"
    }
   ],
   "source": [
    "df['kitchen_area'].hist(bins=40, range=(2, 50))\n",
    "plt.title('Распределение квартир по площади кухни, кв.м.')\n",
    "plt.xlabel('Площадь кухни, кв.м.')\n",
    "plt.ylabel('Количество квартир')\n",
    "plt.show()\n",
    "df.boxplot('kitchen_area')\n",
    "plt.ylim(0, 20)"
   ]
  },
  {
   "cell_type": "code",
   "execution_count": 48,
   "id": "addressed-beatles",
   "metadata": {},
   "outputs": [
    {
     "data": {
      "text/plain": [
       "count    23214.000000\n",
       "mean        10.476505\n",
       "std          5.510626\n",
       "min          1.300000\n",
       "25%          7.300000\n",
       "50%          9.302022\n",
       "75%         12.000000\n",
       "max        107.000000\n",
       "Name: kitchen_area, dtype: float64"
      ]
     },
     "execution_count": 48,
     "metadata": {},
     "output_type": "execute_result"
    }
   ],
   "source": [
    "df['kitchen_area'].describe()"
   ]
  },
  {
   "cell_type": "markdown",
   "id": "surprising-reward",
   "metadata": {},
   "source": [
    "Отбросим все квартиры, площадь кухни которых менее 4 метров. Квартиры с большой площадью имеют также и большую кухню. Не будем их считать выбросами."
   ]
  },
  {
   "cell_type": "code",
   "execution_count": 49,
   "id": "legitimate-weapon",
   "metadata": {},
   "outputs": [],
   "source": [
    "df = df.query('kitchen_area >= 4')"
   ]
  },
  {
   "cell_type": "markdown",
   "id": "written-motor",
   "metadata": {},
   "source": [
    "Посмотрим на распределение квартир в зависимости от удаленности от центра."
   ]
  },
  {
   "cell_type": "code",
   "execution_count": 50,
   "id": "aggregate-friend",
   "metadata": {},
   "outputs": [
    {
     "data": {
      "image/png": "[encoded data removed]",
      "text/plain": [
       "<Figure size 432x288 with 1 Axes>"
      ]
     },
     "metadata": {
      "needs_background": "light"
     },
     "output_type": "display_data"
    },
    {
     "data": {
      "text/plain": [
       "(3000.0, 22500.0)"
      ]
     },
     "execution_count": 50,
     "metadata": {},
     "output_type": "execute_result"
    },
    {
     "data": {
      "image/png": "[encoded data removed]",
      "text/plain": [
       "<Figure size 432x288 with 1 Axes>"
      ]
     },
     "metadata": {
      "needs_background": "light"
     },
     "output_type": "display_data"
    }
   ],
   "source": [
    "df['cityCenters_nearest'].hist(bins=20)\n",
    "plt.show()\n",
    "df.boxplot('cityCenters_nearest')\n",
    "plt.ylim(3000, 22500)"
   ]
  },
  {
   "cell_type": "markdown",
   "id": "sophisticated-conservation",
   "metadata": {},
   "source": [
    "Удалим все квартиры, которые находятся далее 55000 метров от центра."
   ]
  },
  {
   "cell_type": "code",
   "execution_count": 51,
   "id": "thick-ground",
   "metadata": {},
   "outputs": [],
   "source": [
    "df = df.query('cityCenters_nearest < 55000')"
   ]
  },
  {
   "cell_type": "code",
   "execution_count": 52,
   "id": "adolescent-calvin",
   "metadata": {},
   "outputs": [
    {
     "data": {
      "text/plain": [
       "(23175, 33)"
      ]
     },
     "execution_count": 52,
     "metadata": {},
     "output_type": "execute_result"
    }
   ],
   "source": [
    "df.shape"
   ]
  },
  {
   "cell_type": "markdown",
   "id": "protected-ambassador",
   "metadata": {},
   "source": [
    "##### Изучим, какие факторы больше всего влияют на стоимость квартиры. Посмотрим, зависит ли цена от площади, числа комнат, удалённости от центра. Изучим зависимость цены от того, на каком этаже расположена квартира: первом, последнем или другом. Также изучим зависимость от даты размещения: дня недели, месяца и года.\n",
    "\n",
    "1. Посмотрим, зависит ли цена от площади, числа комнат, удалённости от центра. Сформируем таблицу из 4-х необходимых столбцов: last_price, total_area, rooms, cityCenters_nearest."
   ]
  },
  {
   "cell_type": "code",
   "execution_count": 53,
   "id": "separated-water",
   "metadata": {},
   "outputs": [
    {
     "data": {
      "text/html": [
       "<div>\n",
       "<style scoped>\n",
       "    .dataframe tbody tr th:only-of-type {\n",
       "        vertical-align: middle;\n",
       "    }\n",
       "\n",
       "    .dataframe tbody tr th {\n",
       "        vertical-align: top;\n",
       "    }\n",
       "\n",
       "    .dataframe thead th {\n",
       "        text-align: right;\n",
       "    }\n",
       "</style>\n",
       "<table border=\"1\" class=\"dataframe\">\n",
       "  <thead>\n",
       "    <tr style=\"text-align: right;\">\n",
       "      <th></th>\n",
       "      <th>last_price_million</th>\n",
       "      <th>total_area</th>\n",
       "      <th>rooms</th>\n",
       "      <th>cityCenters_nearest</th>\n",
       "    </tr>\n",
       "  </thead>\n",
       "  <tbody>\n",
       "    <tr>\n",
       "      <th>0</th>\n",
       "      <td>13.000</td>\n",
       "      <td>108.0</td>\n",
       "      <td>3</td>\n",
       "      <td>16028</td>\n",
       "    </tr>\n",
       "    <tr>\n",
       "      <th>1</th>\n",
       "      <td>3.350</td>\n",
       "      <td>40.4</td>\n",
       "      <td>1</td>\n",
       "      <td>18603</td>\n",
       "    </tr>\n",
       "    <tr>\n",
       "      <th>2</th>\n",
       "      <td>5.196</td>\n",
       "      <td>56.0</td>\n",
       "      <td>2</td>\n",
       "      <td>13933</td>\n",
       "    </tr>\n",
       "    <tr>\n",
       "      <th>3</th>\n",
       "      <td>64.900</td>\n",
       "      <td>159.0</td>\n",
       "      <td>3</td>\n",
       "      <td>6800</td>\n",
       "    </tr>\n",
       "    <tr>\n",
       "      <th>4</th>\n",
       "      <td>10.000</td>\n",
       "      <td>100.0</td>\n",
       "      <td>2</td>\n",
       "      <td>8098</td>\n",
       "    </tr>\n",
       "  </tbody>\n",
       "</table>\n",
       "</div>"
      ],
      "text/plain": [
       "   last_price_million  total_area  rooms  cityCenters_nearest\n",
       "0              13.000       108.0      3                16028\n",
       "1               3.350        40.4      1                18603\n",
       "2               5.196        56.0      2                13933\n",
       "3              64.900       159.0      3                 6800\n",
       "4              10.000       100.0      2                 8098"
      ]
     },
     "execution_count": 53,
     "metadata": {},
     "output_type": "execute_result"
    }
   ],
   "source": [
    "apartment_cost = df[['last_price_million', 'total_area', 'rooms', 'cityCenters_nearest']]\n",
    "apartment_cost.head()"
   ]
  },
  {
   "cell_type": "code",
   "execution_count": 54,
   "id": "working-assault",
   "metadata": {},
   "outputs": [
    {
     "data": {
      "text/plain": [
       "array([[<AxesSubplot:xlabel='last_price_million', ylabel='last_price_million'>,\n",
       "        <AxesSubplot:xlabel='total_area', ylabel='last_price_million'>,\n",
       "        <AxesSubplot:xlabel='rooms', ylabel='last_price_million'>,\n",
       "        <AxesSubplot:xlabel='cityCenters_nearest', ylabel='last_price_million'>],\n",
       "       [<AxesSubplot:xlabel='last_price_million', ylabel='total_area'>,\n",
       "        <AxesSubplot:xlabel='total_area', ylabel='total_area'>,\n",
       "        <AxesSubplot:xlabel='rooms', ylabel='total_area'>,\n",
       "        <AxesSubplot:xlabel='cityCenters_nearest', ylabel='total_area'>],\n",
       "       [<AxesSubplot:xlabel='last_price_million', ylabel='rooms'>,\n",
       "        <AxesSubplot:xlabel='total_area', ylabel='rooms'>,\n",
       "        <AxesSubplot:xlabel='rooms', ylabel='rooms'>,\n",
       "        <AxesSubplot:xlabel='cityCenters_nearest', ylabel='rooms'>],\n",
       "       [<AxesSubplot:xlabel='last_price_million', ylabel='cityCenters_nearest'>,\n",
       "        <AxesSubplot:xlabel='total_area', ylabel='cityCenters_nearest'>,\n",
       "        <AxesSubplot:xlabel='rooms', ylabel='cityCenters_nearest'>,\n",
       "        <AxesSubplot:xlabel='cityCenters_nearest', ylabel='cityCenters_nearest'>]],\n",
       "      dtype=object)"
      ]
     },
     "execution_count": 54,
     "metadata": {},
     "output_type": "execute_result"
    },
    {
     "data": {
      "image/png": "[encoded data removed]",
      "text/plain": [
       "<Figure size 864x864 with 16 Axes>"
      ]
     },
     "metadata": {
      "needs_background": "light"
     },
     "output_type": "display_data"
    }
   ],
   "source": [
    "pd.plotting.scatter_matrix(apartment_cost, figsize=(12, 12))"
   ]
  },
  {
   "cell_type": "markdown",
   "id": "trained-gibson",
   "metadata": {},
   "source": [
    "Каждая ячейка показывает взаимосвязь пары параметров. Изучим их подробнее:"
   ]
  },
  {
   "cell_type": "code",
   "execution_count": 55,
   "id": "engaged-screening",
   "metadata": {},
   "outputs": [
    {
     "data": {
      "text/html": [
       "<div>\n",
       "<style scoped>\n",
       "    .dataframe tbody tr th:only-of-type {\n",
       "        vertical-align: middle;\n",
       "    }\n",
       "\n",
       "    .dataframe tbody tr th {\n",
       "        vertical-align: top;\n",
       "    }\n",
       "\n",
       "    .dataframe thead th {\n",
       "        text-align: right;\n",
       "    }\n",
       "</style>\n",
       "<table border=\"1\" class=\"dataframe\">\n",
       "  <thead>\n",
       "    <tr style=\"text-align: right;\">\n",
       "      <th></th>\n",
       "      <th>last_price_million</th>\n",
       "      <th>total_area</th>\n",
       "      <th>rooms</th>\n",
       "      <th>cityCenters_nearest</th>\n",
       "    </tr>\n",
       "  </thead>\n",
       "  <tbody>\n",
       "    <tr>\n",
       "      <th>last_price_million</th>\n",
       "      <td>1.000000</td>\n",
       "      <td>0.676911</td>\n",
       "      <td>0.367470</td>\n",
       "      <td>-0.218768</td>\n",
       "    </tr>\n",
       "    <tr>\n",
       "      <th>total_area</th>\n",
       "      <td>0.676911</td>\n",
       "      <td>1.000000</td>\n",
       "      <td>0.750512</td>\n",
       "      <td>-0.212098</td>\n",
       "    </tr>\n",
       "    <tr>\n",
       "      <th>rooms</th>\n",
       "      <td>0.367470</td>\n",
       "      <td>0.750512</td>\n",
       "      <td>1.000000</td>\n",
       "      <td>-0.153583</td>\n",
       "    </tr>\n",
       "    <tr>\n",
       "      <th>cityCenters_nearest</th>\n",
       "      <td>-0.218768</td>\n",
       "      <td>-0.212098</td>\n",
       "      <td>-0.153583</td>\n",
       "      <td>1.000000</td>\n",
       "    </tr>\n",
       "  </tbody>\n",
       "</table>\n",
       "</div>"
      ],
      "text/plain": [
       "                     last_price_million  total_area     rooms  \\\n",
       "last_price_million             1.000000    0.676911  0.367470   \n",
       "total_area                     0.676911    1.000000  0.750512   \n",
       "rooms                          0.367470    0.750512  1.000000   \n",
       "cityCenters_nearest           -0.218768   -0.212098 -0.153583   \n",
       "\n",
       "                     cityCenters_nearest  \n",
       "last_price_million             -0.218768  \n",
       "total_area                     -0.212098  \n",
       "rooms                          -0.153583  \n",
       "cityCenters_nearest             1.000000  "
      ]
     },
     "execution_count": 55,
     "metadata": {},
     "output_type": "execute_result"
    }
   ],
   "source": [
    "apartment_cost.corr()"
   ]
  },
  {
   "cell_type": "markdown",
   "id": "handled-bibliography",
   "metadata": {},
   "source": [
    "Наблюдаем взаимосвязь цены квартиры и ее общей площади (прямая корреляция 0.676911). На Графике наблюдаем, что с ростом площади растет и стоимость квартиры. Большинство значений располагается в диапазонах стоимости до 50 млн.руб. и до 200 кв.м.\n",
    "\n",
    "Стоимость немного зависит от числа комнат (корреляция 0.367470). Больше стоят квартиры от 3 до 5 комнат.\n",
    "\n",
    "Удаленность от центра и стоимость квартиры имеют обратную слабую корреляцию. В целом, чем ближе квартира к центру, тем выше ее стоимость. Но в большинстве случаев это не является ключевым фактором повышения стоимости.\n",
    "\n",
    "2. Изучим зависимость цены от того, на каком этаже расположена квартира: первом, последнем или другом.\n",
    "Для этого сгруппируем данные по категориям этажей и посчитаем среднюю стоимость квартир."
   ]
  },
  {
   "cell_type": "code",
   "execution_count": 56,
   "id": "sustainable-freedom",
   "metadata": {},
   "outputs": [
    {
     "data": {
      "text/html": [
       "<div>\n",
       "<style scoped>\n",
       "    .dataframe tbody tr th:only-of-type {\n",
       "        vertical-align: middle;\n",
       "    }\n",
       "\n",
       "    .dataframe tbody tr th {\n",
       "        vertical-align: top;\n",
       "    }\n",
       "\n",
       "    .dataframe thead tr th {\n",
       "        text-align: left;\n",
       "    }\n",
       "\n",
       "    .dataframe thead tr:last-of-type th {\n",
       "        text-align: right;\n",
       "    }\n",
       "</style>\n",
       "<table border=\"1\" class=\"dataframe\">\n",
       "  <thead>\n",
       "    <tr>\n",
       "      <th></th>\n",
       "      <th>median</th>\n",
       "      <th>count</th>\n",
       "    </tr>\n",
       "    <tr>\n",
       "      <th></th>\n",
       "      <th>last_price_million</th>\n",
       "      <th>last_price_million</th>\n",
       "    </tr>\n",
       "    <tr>\n",
       "      <th>apartment_floor</th>\n",
       "      <th></th>\n",
       "      <th></th>\n",
       "    </tr>\n",
       "  </thead>\n",
       "  <tbody>\n",
       "    <tr>\n",
       "      <th>Другой</th>\n",
       "      <td>4.85</td>\n",
       "      <td>17065</td>\n",
       "    </tr>\n",
       "    <tr>\n",
       "      <th>Первый</th>\n",
       "      <td>3.90</td>\n",
       "      <td>2856</td>\n",
       "    </tr>\n",
       "    <tr>\n",
       "      <th>Последний</th>\n",
       "      <td>4.30</td>\n",
       "      <td>3254</td>\n",
       "    </tr>\n",
       "  </tbody>\n",
       "</table>\n",
       "</div>"
      ],
      "text/plain": [
       "                            median              count\n",
       "                last_price_million last_price_million\n",
       "apartment_floor                                      \n",
       "Другой                        4.85              17065\n",
       "Первый                        3.90               2856\n",
       "Последний                     4.30               3254"
      ]
     },
     "execution_count": 56,
     "metadata": {},
     "output_type": "execute_result"
    }
   ],
   "source": [
    "df.pivot_table(index='apartment_floor', values='last_price_million', aggfunc=['median', 'count'])"
   ]
  },
  {
   "cell_type": "markdown",
   "id": "sexual-plastic",
   "metadata": {},
   "source": [
    "Меньшей стоимостью обладают квартиры, которые находятся на первом этаже, далее идут квартиры на последнем этаже, и затем на других этажах. Такое распределение обусловлено тем, что первый этаж не имеет в большей степени балконов, на них шумнее, а нп последних этажах могут быть проблемы с крышей, и как следствие, с ремонтом квартир.\n",
    "\n",
    "3. Также изучим зависимость от даты размещения: дня недели, месяца и года."
   ]
  },
  {
   "cell_type": "code",
   "execution_count": 57,
   "id": "painful-brief",
   "metadata": {},
   "outputs": [
    {
     "name": "stdout",
     "output_type": "stream",
     "text": [
      "         last_price_million\n",
      "weekday                    \n",
      "3                  6.546761\n",
      "5                  6.394538\n",
      "2                  6.377046\n",
      "4                  6.348515\n",
      "1                  6.316154\n",
      "       last_price_million\n",
      "month                    \n",
      "4                6.605231\n",
      "1                6.512880\n",
      "5                6.512668\n",
      "12               6.485950\n",
      "2                6.453635\n",
      "      last_price_million\n",
      "year                    \n",
      "2014           11.874161\n",
      "2015            8.184150\n",
      "2016            6.786147\n",
      "2019            6.598831\n",
      "2017            6.261718\n"
     ]
    }
   ],
   "source": [
    "def pivot_table_func(df, column):\n",
    "    return df.pivot_table(index=column, values='last_price_million') \\\n",
    "    .sort_values(by='last_price_million', ascending=False).head()\n",
    "\n",
    "season_cost = ['weekday', 'month', 'year']\n",
    "for column in season_cost:\n",
    "    print(pivot_table_func(df, column))"
   ]
  },
  {
   "cell_type": "markdown",
   "id": "behavioral-trustee",
   "metadata": {},
   "source": [
    "#### Вывод\n",
    "\n",
    "1. Чем больше площадь, тем выше стоимость\n",
    "2. Рост количества комнат увеличивает цену квартиры\n",
    "3. Цена на первом и последнем этаже, чем на остальных этажах\n",
    "4. Большая стоимость была в 2014 году, а также в 2015.\n",
    "5. Стоимость от времени года не меняется.\n",
    "\n",
    "##### Выберем 10 населённых пунктов с наибольшим числом объявлений. Посчитаем среднюю цену квадратного метра в этих населённых пунктах. Выделим среди них населённые пункты с самой высокой и низкой стоимостью жилья.\n",
    "\n",
    "Создадим список локаций с наибольшим количеством объявлений."
   ]
  },
  {
   "cell_type": "code",
   "execution_count": 58,
   "id": "transsexual-fellowship",
   "metadata": {},
   "outputs": [
    {
     "data": {
      "text/plain": [
       "Санкт-Петербург      15412\n",
       "посёлок Мурино         492\n",
       "Кудрово                450\n",
       "посёлок Шушары         434\n",
       "Всеволожск             390\n",
       "Пушкин                 366\n",
       "Колпино                337\n",
       "посёлок Парголово      322\n",
       "Гатчина                305\n",
       "Выборг                 228\n",
       "Name: locality_name, dtype: int64"
      ]
     },
     "execution_count": 58,
     "metadata": {},
     "output_type": "execute_result"
    }
   ],
   "source": [
    "top_10_locality_name = df['locality_name'].value_counts().sort_values(ascending=False).head(10)\n",
    "top_10_locality_name"
   ]
  },
  {
   "cell_type": "code",
   "execution_count": 59,
   "id": "photographic-wheat",
   "metadata": {},
   "outputs": [
    {
     "data": {
      "text/plain": [
       "['Санкт-Петербург',\n",
       " 'посёлок Мурино',\n",
       " 'Кудрово',\n",
       " 'посёлок Шушары',\n",
       " 'Всеволожск',\n",
       " 'Пушкин',\n",
       " 'Колпино',\n",
       " 'посёлок Парголово',\n",
       " 'Гатчина',\n",
       " 'Выборг']"
      ]
     },
     "execution_count": 59,
     "metadata": {},
     "output_type": "execute_result"
    }
   ],
   "source": [
    "list_top_10 = list(top_10_locality_name.index)\n",
    "list_top_10"
   ]
  },
  {
   "cell_type": "markdown",
   "id": "narrow-ghana",
   "metadata": {},
   "source": [
    "Отсортируем данные по вхождению в этот список. И создадим сводную таблицу, где посчитаем среднее значение удаленности от центра, стоимости, общей площади."
   ]
  },
  {
   "cell_type": "code",
   "execution_count": 60,
   "id": "altered-detector",
   "metadata": {},
   "outputs": [
    {
     "data": {
      "text/html": [
       "<div>\n",
       "<style scoped>\n",
       "    .dataframe tbody tr th:only-of-type {\n",
       "        vertical-align: middle;\n",
       "    }\n",
       "\n",
       "    .dataframe tbody tr th {\n",
       "        vertical-align: top;\n",
       "    }\n",
       "\n",
       "    .dataframe thead th {\n",
       "        text-align: right;\n",
       "    }\n",
       "</style>\n",
       "<table border=\"1\" class=\"dataframe\">\n",
       "  <thead>\n",
       "    <tr style=\"text-align: right;\">\n",
       "      <th></th>\n",
       "      <th>cityCenters_nearest</th>\n",
       "      <th>last_price</th>\n",
       "      <th>total_area</th>\n",
       "    </tr>\n",
       "    <tr>\n",
       "      <th>locality_name</th>\n",
       "      <th></th>\n",
       "      <th></th>\n",
       "      <th></th>\n",
       "    </tr>\n",
       "  </thead>\n",
       "  <tbody>\n",
       "    <tr>\n",
       "      <th>Всеволожск</th>\n",
       "      <td>13098.000</td>\n",
       "      <td>3824615.295</td>\n",
       "      <td>56.542</td>\n",
       "    </tr>\n",
       "    <tr>\n",
       "      <th>Выборг</th>\n",
       "      <td>13098.000</td>\n",
       "      <td>3210021.930</td>\n",
       "      <td>54.230</td>\n",
       "    </tr>\n",
       "    <tr>\n",
       "      <th>Гатчина</th>\n",
       "      <td>13098.000</td>\n",
       "      <td>3494653.639</td>\n",
       "      <td>50.644</td>\n",
       "    </tr>\n",
       "    <tr>\n",
       "      <th>Колпино</th>\n",
       "      <td>32051.356</td>\n",
       "      <td>3866288.564</td>\n",
       "      <td>52.358</td>\n",
       "    </tr>\n",
       "    <tr>\n",
       "      <th>Кудрово</th>\n",
       "      <td>13098.000</td>\n",
       "      <td>4445603.911</td>\n",
       "      <td>47.370</td>\n",
       "    </tr>\n",
       "    <tr>\n",
       "      <th>Пушкин</th>\n",
       "      <td>28690.981</td>\n",
       "      <td>6373153.727</td>\n",
       "      <td>60.765</td>\n",
       "    </tr>\n",
       "    <tr>\n",
       "      <th>Санкт-Петербург</th>\n",
       "      <td>11658.146</td>\n",
       "      <td>7788246.686</td>\n",
       "      <td>63.642</td>\n",
       "    </tr>\n",
       "    <tr>\n",
       "      <th>посёлок Мурино</th>\n",
       "      <td>13098.000</td>\n",
       "      <td>3744125.366</td>\n",
       "      <td>45.253</td>\n",
       "    </tr>\n",
       "    <tr>\n",
       "      <th>посёлок Парголово</th>\n",
       "      <td>19929.894</td>\n",
       "      <td>4503557.326</td>\n",
       "      <td>51.337</td>\n",
       "    </tr>\n",
       "    <tr>\n",
       "      <th>посёлок Шушары</th>\n",
       "      <td>24194.380</td>\n",
       "      <td>4124552.993</td>\n",
       "      <td>54.154</td>\n",
       "    </tr>\n",
       "  </tbody>\n",
       "</table>\n",
       "</div>"
      ],
      "text/plain": [
       "                   cityCenters_nearest  last_price  total_area\n",
       "locality_name                                                 \n",
       "Всеволожск                   13098.000 3824615.295      56.542\n",
       "Выборг                       13098.000 3210021.930      54.230\n",
       "Гатчина                      13098.000 3494653.639      50.644\n",
       "Колпино                      32051.356 3866288.564      52.358\n",
       "Кудрово                      13098.000 4445603.911      47.370\n",
       "Пушкин                       28690.981 6373153.727      60.765\n",
       "Санкт-Петербург              11658.146 7788246.686      63.642\n",
       "посёлок Мурино               13098.000 3744125.366      45.253\n",
       "посёлок Парголово            19929.894 4503557.326      51.337\n",
       "посёлок Шушары               24194.380 4124552.993      54.154"
      ]
     },
     "execution_count": 60,
     "metadata": {},
     "output_type": "execute_result"
    }
   ],
   "source": [
    "pd.options.display.float_format = '{:.3f}'.format\n",
    "df_top_ten_locality_name = df.query('locality_name in @list_top_10')\n",
    "df_pivot = df_top_ten_locality_name.pivot_table(index='locality_name', values=['total_area', 'last_price', 'cityCenters_nearest'])\n",
    "df_pivot"
   ]
  },
  {
   "cell_type": "markdown",
   "id": "combined-encyclopedia",
   "metadata": {},
   "source": [
    "Посчитаем среднюю стоимость квадратного метра в населенных пунктах. И отсортируем данные по убыванию средней стоимости на квадратный метр."
   ]
  },
  {
   "cell_type": "code",
   "execution_count": 61,
   "id": "searching-toronto",
   "metadata": {},
   "outputs": [
    {
     "data": {
      "text/html": [
       "<div>\n",
       "<style scoped>\n",
       "    .dataframe tbody tr th:only-of-type {\n",
       "        vertical-align: middle;\n",
       "    }\n",
       "\n",
       "    .dataframe tbody tr th {\n",
       "        vertical-align: top;\n",
       "    }\n",
       "\n",
       "    .dataframe thead th {\n",
       "        text-align: right;\n",
       "    }\n",
       "</style>\n",
       "<table border=\"1\" class=\"dataframe\">\n",
       "  <thead>\n",
       "    <tr style=\"text-align: right;\">\n",
       "      <th></th>\n",
       "      <th>cityCenters_nearest</th>\n",
       "      <th>last_price</th>\n",
       "      <th>total_area</th>\n",
       "      <th>mean_square_metre_price</th>\n",
       "    </tr>\n",
       "    <tr>\n",
       "      <th>locality_name</th>\n",
       "      <th></th>\n",
       "      <th></th>\n",
       "      <th></th>\n",
       "      <th></th>\n",
       "    </tr>\n",
       "  </thead>\n",
       "  <tbody>\n",
       "    <tr>\n",
       "      <th>Санкт-Петербург</th>\n",
       "      <td>11658.146</td>\n",
       "      <td>7788246.686</td>\n",
       "      <td>63.642</td>\n",
       "      <td>122375.739</td>\n",
       "    </tr>\n",
       "    <tr>\n",
       "      <th>Пушкин</th>\n",
       "      <td>28690.981</td>\n",
       "      <td>6373153.727</td>\n",
       "      <td>60.765</td>\n",
       "      <td>104881.559</td>\n",
       "    </tr>\n",
       "    <tr>\n",
       "      <th>Кудрово</th>\n",
       "      <td>13098.000</td>\n",
       "      <td>4445603.911</td>\n",
       "      <td>47.370</td>\n",
       "      <td>93848.026</td>\n",
       "    </tr>\n",
       "    <tr>\n",
       "      <th>посёлок Парголово</th>\n",
       "      <td>19929.894</td>\n",
       "      <td>4503557.326</td>\n",
       "      <td>51.337</td>\n",
       "      <td>87724.914</td>\n",
       "    </tr>\n",
       "    <tr>\n",
       "      <th>посёлок Мурино</th>\n",
       "      <td>13098.000</td>\n",
       "      <td>3744125.366</td>\n",
       "      <td>45.253</td>\n",
       "      <td>82737.936</td>\n",
       "    </tr>\n",
       "    <tr>\n",
       "      <th>посёлок Шушары</th>\n",
       "      <td>24194.380</td>\n",
       "      <td>4124552.993</td>\n",
       "      <td>54.154</td>\n",
       "      <td>76163.002</td>\n",
       "    </tr>\n",
       "    <tr>\n",
       "      <th>Колпино</th>\n",
       "      <td>32051.356</td>\n",
       "      <td>3866288.564</td>\n",
       "      <td>52.358</td>\n",
       "      <td>73842.927</td>\n",
       "    </tr>\n",
       "    <tr>\n",
       "      <th>Гатчина</th>\n",
       "      <td>13098.000</td>\n",
       "      <td>3494653.639</td>\n",
       "      <td>50.644</td>\n",
       "      <td>69004.923</td>\n",
       "    </tr>\n",
       "    <tr>\n",
       "      <th>Всеволожск</th>\n",
       "      <td>13098.000</td>\n",
       "      <td>3824615.295</td>\n",
       "      <td>56.542</td>\n",
       "      <td>67641.870</td>\n",
       "    </tr>\n",
       "    <tr>\n",
       "      <th>Выборг</th>\n",
       "      <td>13098.000</td>\n",
       "      <td>3210021.930</td>\n",
       "      <td>54.230</td>\n",
       "      <td>59193.116</td>\n",
       "    </tr>\n",
       "  </tbody>\n",
       "</table>\n",
       "</div>"
      ],
      "text/plain": [
       "                   cityCenters_nearest  last_price  total_area  \\\n",
       "locality_name                                                    \n",
       "Санкт-Петербург              11658.146 7788246.686      63.642   \n",
       "Пушкин                       28690.981 6373153.727      60.765   \n",
       "Кудрово                      13098.000 4445603.911      47.370   \n",
       "посёлок Парголово            19929.894 4503557.326      51.337   \n",
       "посёлок Мурино               13098.000 3744125.366      45.253   \n",
       "посёлок Шушары               24194.380 4124552.993      54.154   \n",
       "Колпино                      32051.356 3866288.564      52.358   \n",
       "Гатчина                      13098.000 3494653.639      50.644   \n",
       "Всеволожск                   13098.000 3824615.295      56.542   \n",
       "Выборг                       13098.000 3210021.930      54.230   \n",
       "\n",
       "                   mean_square_metre_price  \n",
       "locality_name                               \n",
       "Санкт-Петербург                 122375.739  \n",
       "Пушкин                          104881.559  \n",
       "Кудрово                          93848.026  \n",
       "посёлок Парголово                87724.914  \n",
       "посёлок Мурино                   82737.936  \n",
       "посёлок Шушары                   76163.002  \n",
       "Колпино                          73842.927  \n",
       "Гатчина                          69004.923  \n",
       "Всеволожск                       67641.870  \n",
       "Выборг                           59193.116  "
      ]
     },
     "execution_count": 61,
     "metadata": {},
     "output_type": "execute_result"
    }
   ],
   "source": [
    "df_pivot['mean_square_metre_price'] = df_pivot['last_price'] / df_pivot['total_area']\n",
    "df_pivot.sort_values(by='mean_square_metre_price', ascending=False)"
   ]
  },
  {
   "cell_type": "markdown",
   "id": "fabulous-engine",
   "metadata": {},
   "source": [
    "#### Вывод\n",
    "Самая высокая стоимость за квадратный метр находится в Санкт-Петербурге, далее в городе Пушкин. Самые дешевые квартиры находятся в Выборге.\n",
    "\n",
    "##### Изучим предложения квартир: для каждой квартиры есть информация о расстоянии до центра. Выделим квартиры в Санкт-Петербурге. Выясним, какая область входит в центр. Создадим столбец с расстоянием до центра в километрах: округлим до целых значений. После этого посчитаем среднюю цену для каждого километра. Построим график: он должен показывать, как цена зависит от удалённости от центра. Определим границу, где график сильно меняется — это и будет центральная зона."
   ]
  },
  {
   "cell_type": "code",
   "execution_count": 62,
   "id": "recreational-calculation",
   "metadata": {},
   "outputs": [
    {
     "data": {
      "text/plain": [
       "<AxesSubplot:xlabel='nearest_km'>"
      ]
     },
     "execution_count": 62,
     "metadata": {},
     "output_type": "execute_result"
    },
    {
     "data": {
      "image/png": "[encoded data removed]",
      "text/plain": [
       "<Figure size 432x216 with 1 Axes>"
      ]
     },
     "metadata": {
      "needs_background": "light"
     },
     "output_type": "display_data"
    }
   ],
   "source": [
    "spb_apart = df.query('locality_name == \"Санкт-Петербург\"')\n",
    "spb_apart['nearest_km'] = (spb_apart['cityCenters_nearest'] / 1000).astype(int)\n",
    "spb_apart['price_for_km'] = spb_apart['last_price'] / spb_apart['nearest_km']\n",
    "\n",
    "spb_apart.pivot_table(index='nearest_km', values='price_for_km') \\\n",
    "    .plot(y='price_for_km', grid=True, figsize=(6,3))"
   ]
  },
  {
   "cell_type": "markdown",
   "id": "cross-purpose",
   "metadata": {},
   "source": [
    "График сильно меняется до 7 км от центра. Считаем это границей центра.\n",
    "\n",
    "##### Выделим сегмент квартир в центре. Проанализируем эту территорию и изучим следующие параметры: площадь, цена, число комнат, высота потолков. Также выделим факторы, которые влияют на стоимость квартиры (число комнат, этаж, удалённость от центра, дата размещения объявления). Сделаем выводы. Отличаются ли они от общих выводов по всему городу?"
   ]
  },
  {
   "cell_type": "code",
   "execution_count": 63,
   "id": "every-white",
   "metadata": {},
   "outputs": [
    {
     "data": {
      "text/plain": [
       "Text(0, 0.5, 'Количество квартир')"
      ]
     },
     "execution_count": 63,
     "metadata": {},
     "output_type": "execute_result"
    },
    {
     "data": {
      "image/png": "[encoded data removed]",
      "text/plain": [
       "<Figure size 432x288 with 1 Axes>"
      ]
     },
     "metadata": {
      "needs_background": "light"
     },
     "output_type": "display_data"
    }
   ],
   "source": [
    "center_only = spb_apart.query('nearest_km < 7')\n",
    "center_only.hist('total_area', bins=20, range=(0,200))\n",
    "plt.title('Распределение квартир по общей площади в центре, кв.м.')\n",
    "plt.xlabel('Общая площадь, кв.м.')\n",
    "plt.ylabel('Количество квартир')"
   ]
  },
  {
   "cell_type": "markdown",
   "id": "terminal-underwear",
   "metadata": {},
   "source": [
    "В большинстве случаев квартиры в центре большие и их площадь находится в диапазоне от 40 до 100 метров. До фильтрации было от 30 до 65 кв.м."
   ]
  },
  {
   "cell_type": "code",
   "execution_count": 64,
   "id": "structural-terrorism",
   "metadata": {},
   "outputs": [
    {
     "data": {
      "text/plain": [
       "Text(0, 0.5, 'Количество квартир')"
      ]
     },
     "execution_count": 64,
     "metadata": {},
     "output_type": "execute_result"
    },
    {
     "data": {
      "image/png": "[encoded data removed]",
      "text/plain": [
       "<Figure size 432x288 with 1 Axes>"
      ]
     },
     "metadata": {
      "needs_background": "light"
     },
     "output_type": "display_data"
    }
   ],
   "source": [
    "center_only.hist('last_price_million', bins=30, range=(0, 50))\n",
    "plt.title('Распределение квартир по стоимости в центре, млн.руб.')\n",
    "plt.xlabel('Стоимость квартиры, млн.руб.')\n",
    "plt.ylabel('Количество квартир')"
   ]
  },
  {
   "cell_type": "markdown",
   "id": "tutorial-wrong",
   "metadata": {},
   "source": [
    "В большинстве случаев квартиры в центре дорогие и их стоимость находится в диапазоне от 5 до 10 млн.руб. До фильтрации было от от 2.5 до 5 млн.руб."
   ]
  },
  {
   "cell_type": "code",
   "execution_count": 65,
   "id": "prescribed-living",
   "metadata": {},
   "outputs": [
    {
     "data": {
      "text/plain": [
       "Text(0, 0.5, 'Количество квартир')"
      ]
     },
     "execution_count": 65,
     "metadata": {},
     "output_type": "execute_result"
    },
    {
     "data": {
      "image/png": "[encoded data removed]",
      "text/plain": [
       "<Figure size 432x288 with 1 Axes>"
      ]
     },
     "metadata": {
      "needs_background": "light"
     },
     "output_type": "display_data"
    }
   ],
   "source": [
    "center_only['rooms'].hist(bins=20, range=(1, 7))\n",
    "plt.title('Распределение квартир по количеству комнат в центре, шт.')\n",
    "plt.xlabel('Количество комнат, шт.')\n",
    "plt.ylabel('Количество квартир')"
   ]
  },
  {
   "cell_type": "markdown",
   "id": "floating-geometry",
   "metadata": {},
   "source": [
    "Чаще всего, квартиры имеют по 2-3 комнаты."
   ]
  },
  {
   "cell_type": "code",
   "execution_count": 66,
   "id": "precise-official",
   "metadata": {},
   "outputs": [
    {
     "data": {
      "text/plain": [
       "Text(0, 0.5, 'Количество квартир')"
      ]
     },
     "execution_count": 66,
     "metadata": {},
     "output_type": "execute_result"
    },
    {
     "data": {
      "image/png": "[encoded data removed]",
      "text/plain": [
       "<Figure size 432x288 with 1 Axes>"
      ]
     },
     "metadata": {
      "needs_background": "light"
     },
     "output_type": "display_data"
    }
   ],
   "source": [
    "df['ceiling_height'].hist(bins=10, range=(2, 6))\n",
    "plt.title('Распределение квартир по высоте потолка в центре, м.')\n",
    "plt.xlabel('Высота потолка, м.')\n",
    "plt.ylabel('Количество квартир')"
   ]
  },
  {
   "cell_type": "markdown",
   "id": "ancient-technician",
   "metadata": {},
   "source": [
    "Большая часть квартир имеет потолки 2.5 и 3.5 метров.\n",
    "\n",
    "##### Выделим факторы, которые влияют на стоимость квартиры (число комнат, этаж, удалённость от центра, дата размещения объявления).\n",
    "\n",
    "- Сравним данные по квартирам в центре и в Санкт-Петербурге. Построим 2 гистограммы на одной плоскости."
   ]
  },
  {
   "cell_type": "code",
   "execution_count": 67,
   "id": "corporate-crowd",
   "metadata": {},
   "outputs": [
    {
     "data": {
      "text/plain": [
       "<AxesSubplot:ylabel='Frequency'>"
      ]
     },
     "execution_count": 67,
     "metadata": {},
     "output_type": "execute_result"
    },
    {
     "data": {
      "image/png": "[encoded data removed]",
      "text/plain": [
       "<Figure size 432x288 with 1 Axes>"
      ]
     },
     "metadata": {
      "needs_background": "light"
     },
     "output_type": "display_data"
    }
   ],
   "source": [
    "spb_apart_floor = spb_apart.pivot_table(index='floor', values='last_price_million')\n",
    "center_only_floor = center_only.pivot_table(index='floor', values='last_price_million')\n",
    "\n",
    "ax = spb_apart_floor.plot(kind='hist', y='last_price_million', histtype='step', range=(0, 20), bins=15, linewidth=5, alpha=0.7, label='spb')\n",
    "center_only_floor.plot(kind='hist', y='last_price_million', histtype='step', range=(0, 20), bins=15, linewidth=5, alpha=0.7, label='center', ax=ax, grid=True, legend=True)"
   ]
  },
  {
   "cell_type": "markdown",
   "id": "foster-globe",
   "metadata": {},
   "source": [
    "В центре большинство квартир находится с 5 по 20 этаж. В городе в целом квартиры располагаются на 6-7 этаже.\n",
    "\n",
    "- Узнаем, как влияет количество комнат и удаленность от центра на стоимость квартиры:"
   ]
  },
  {
   "cell_type": "code",
   "execution_count": 68,
   "id": "ordinary-latex",
   "metadata": {},
   "outputs": [
    {
     "data": {
      "image/png": "[encoded data removed]",
      "text/plain": [
       "<Figure size 648x648 with 9 Axes>"
      ]
     },
     "metadata": {
      "needs_background": "light"
     },
     "output_type": "display_data"
    },
    {
     "data": {
      "image/png": "[encoded data removed]",
      "text/plain": [
       "<Figure size 648x648 with 9 Axes>"
      ]
     },
     "metadata": {
      "needs_background": "light"
     },
     "output_type": "display_data"
    }
   ],
   "source": [
    "columns = ['last_price_million', 'rooms', 'nearest_km']\n",
    "pd.plotting.scatter_matrix(center_only[columns], figsize=(9,9))\n",
    "plt.show()\n",
    "pd.plotting.scatter_matrix(spb_apart[columns], figsize=(9,9))\n",
    "plt.show()"
   ]
  },
  {
   "cell_type": "code",
   "execution_count": 69,
   "id": "balanced-arizona",
   "metadata": {},
   "outputs": [
    {
     "name": "stdout",
     "output_type": "stream",
     "text": [
      "Санкт-Петербург\n",
      "                    last_price_million  rooms  nearest_km\n",
      "last_price_million               1.000  0.376      -0.294\n",
      "rooms                            0.376  1.000      -0.282\n",
      "nearest_km                      -0.294 -0.282       1.000\n",
      "Центр\n",
      "                    last_price_million  rooms  nearest_km\n",
      "last_price_million               1.000  0.307      -0.058\n",
      "rooms                            0.307  1.000      -0.181\n",
      "nearest_km                      -0.058 -0.181       1.000\n"
     ]
    }
   ],
   "source": [
    "print('Санкт-Петербург')\n",
    "print(spb_apart[columns].corr())\n",
    "print('Центр')\n",
    "print(center_only[columns].corr())"
   ]
  },
  {
   "cell_type": "markdown",
   "id": "leading-report",
   "metadata": {},
   "source": [
    "1. В центре чаще квартиры с 2-3 комнатами, в городе в целом от 1 до 3 комнат.\n",
    "2. Больше всего квартир в центре находятся на расстоянии 3-4 км от центра, в городе на расстоянии 10 - 17 км.\n",
    "3. В Санкт-Петербурге корреляция по показателям немного выше, чем в центре.\n",
    "\n",
    "- Узнаем, как дата размещения объявления влияет на стоимость квартиры:"
   ]
  },
  {
   "cell_type": "code",
   "execution_count": 70,
   "id": "adolescent-internship",
   "metadata": {},
   "outputs": [
    {
     "name": "stdout",
     "output_type": "stream",
     "text": [
      "Санкт-Петербург\n"
     ]
    },
    {
     "data": {
      "text/plain": [
       "year\n",
       "2014   14.363\n",
       "2015    9.824\n",
       "2016    8.368\n",
       "2019    7.930\n",
       "2017    7.594\n",
       "2018    7.289\n",
       "Name: last_price_million, dtype: float64"
      ]
     },
     "execution_count": 70,
     "metadata": {},
     "output_type": "execute_result"
    }
   ],
   "source": [
    "print('Санкт-Петербург')\n",
    "spb_apart.groupby('year')['last_price_million'].mean().sort_values(ascending=False)"
   ]
  },
  {
   "cell_type": "code",
   "execution_count": 71,
   "id": "conscious-might",
   "metadata": {},
   "outputs": [
    {
     "name": "stdout",
     "output_type": "stream",
     "text": [
      "Центр\n"
     ]
    },
    {
     "data": {
      "text/plain": [
       "year\n",
       "2014   25.027\n",
       "2015   16.270\n",
       "2019   14.792\n",
       "2016   14.783\n",
       "2017   13.861\n",
       "2018   12.531\n",
       "Name: last_price_million, dtype: float64"
      ]
     },
     "execution_count": 71,
     "metadata": {},
     "output_type": "execute_result"
    }
   ],
   "source": [
    "print('Центр')\n",
    "center_only.groupby('year')['last_price_million'].mean().sort_values(ascending=False)"
   ]
  },
  {
   "cell_type": "markdown",
   "id": "defensive-allen",
   "metadata": {},
   "source": [
    "С 2014 года наблюдается тренд падения рынка недвижимости (стоимости квартир). Падение замедляется в 2019 году."
   ]
  },
  {
   "cell_type": "markdown",
   "id": "random-aging",
   "metadata": {},
   "source": [
    "### Шаг 5. Общий вывод\n",
    "\n",
    "1. Были выявлены и удалены выбросы, а также заполнены пропуски. Несколько причин пропусков:\n",
    "- в столбце is_apartment пользователь мог не указать, что недвижимость не является аппартаментом, также с наличием балконов в столбце balcony;\n",
    "- пропуски в стобцах parks_around3000, parks_nearest, ponds_around3000, ponds_nearest, cityCenters_nearest могли присутсвовать по причине ошибки сбора данных или отсутсвия даннх на карте;\n",
    "- в столбце days_exposition пропуски могли возникнуть по той причине, что объявление еще активно\n",
    "\n",
    "2. Пропуски заменены медианой по группе (living_area) или средним значением.\n",
    "\n",
    "3. Булевы значения привели к типу int. Некоторые столбцы типа float привели также к int для простоты.\n",
    "\n",
    "4. Добавлены новые значения в таблицу: цена квадратного метра, день недели, месяц и год публикации объявления, проведена категоризация по этажу квартиры, добавлен показатель соотношения жилой и общей площади, а также отношение площади кухни к общей.\n",
    "\n",
    "5. Построены гистограммы по параметрам площади, цены, числа комнат, высоты потолков. Выводы до удаления выбросов:\n",
    "- Площадь имеет среднее значение от 30 до 65 кв.м.\n",
    "- В среднем квартиры стоят от 2.5 до 5 млн.руб.\n",
    "- В среднем квартиры имеют от 1 до 3 комнат.\n",
    "- Чаще всего квартиры имеют потолки от 2 до 3.5 метров.\n",
    "- Большая часть квартир продается до 100 дней.\n",
    "- Выявлены аномалии продаж: аномально быстрая продажа - менее 10 дней, аномально долгая продажа - более 608 дней.\n",
    "\n",
    "6. Удалены редкие и выбивающиеся значения.\n",
    "\n",
    "7. Изучили, какие факторы больше всего влияют на стоимость квартиры. Наблюдаем взаимосвязь цены квартиры и ее общей площади (прямая корреляция 0.676911). На Графике наблюдаем, что с ростом площади растет и стоимость квартиры. Меньшей стоимостью обладают квартиры, которые находятся на первом этаже, далее идут квартиры на последнем этаже, и затем на других этажах.\n",
    "\n",
    "8. Данные после удаления выбросов дали следущие выводы:\n",
    "- Чем больше площадь, тем выше стоимость\n",
    "- Рост количества комнат увеличивает цену квартиры\n",
    "- Цена на первом и последнем этаже, чем на остальных этажах\n",
    "- Большая стоимость была в 2014 году, а также в 2015.\n",
    "- Стоимость от времени года не меняется.\n",
    "\n",
    "9. Самая высокая стоимость за квадратный метр находится в Санкт-Петербурге, далее в городе Пушкин. Самые дешевые квартиры находятся в Выборге.\n",
    "\n",
    "10. Определен центр города - радиус 7 км.\n",
    "\n",
    "12. Центр Санкт-Петербурга в сравнении с городом:\n",
    "- В большинстве случаев квартиры в центре большие и их площадь находится в диапазоне от 40 до 100 метров. До фильтрации было от 30 до 65 кв.м.\n",
    "- В большинстве случаев квартиры в центре дорогие и их стоимость находится в диапазоне от 5 до 10 млн.руб. До фильтрации было от от 2.5 до 5 млн.руб.\n",
    "- Чаще всего, квартиры в центре имеют по 2-3 комнаты, в городе - 1-2 квартиры.\n",
    "- Большая часть квартир имеет потолки 2.5 и 3.5 метров.\n",
    "- В центре большинство квартир находится с 5 по 20 этаж. В городе в целом квартиры располагаются на 6-7 этаже. В центре больше многоэтажных домов.\n",
    "- Больше всего квартир в центре находятся на расстоянии 3-4 км от центра, в городе на расстоянии 10 - 17 км.\n",
    "- С 2014 года наблюдается тренд падения рынка недвижимости (стоимости квартир) в Санкт-Петербурге в целом и в его центре. Падение замедляется в 2019 году.\n",
    "\n",
    "Необходимо было решить задачу: установить, какеи признаки наиболее влияют на стоимость недвижимости.\n",
    "Важны такие признаки: общая площадь, жилая площадь, количество комнат, расстояние от центра города.\n",
    "С 7 км от центра Санкт-Петербурга стоимость жилья снижается.\n",
    "Самая высокая стоимость за квадратный метр находится в Санкт-Петербурге, далее в городе Пушкин. Самые дешевые квартиры находятся в Выборге.\n",
    "\n",
    "Выявили артефакты: дешевые квартиры (менее 5 млк.руб.) с площадью более 100 кв.м; общая площадь менее 15 кв.м.; жилая площадь менее 10 кв.м.; площадь кухни менее 4 кв.м. Все артефакты удалены."
   ]
  }
 ],
 "metadata": {
  "kernelspec": {
   "display_name": "Python 3 (ipykernel)",
   "language": "python",
   "name": "python3"
  },
  "language_info": {
   "codemirror_mode": {
    "name": "ipython",
    "version": 3
   },
   "file_extension": ".py",
   "mimetype": "text/x-python",
   "name": "python",
   "nbconvert_exporter": "python",
   "pygments_lexer": "ipython3",
   "version": "3.8.8"
  }
 },
 "nbformat": 4,
 "nbformat_minor": 5
}
